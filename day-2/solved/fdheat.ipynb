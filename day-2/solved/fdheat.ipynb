{
 "cells": [
  {
   "cell_type": "code",
   "execution_count": null,
   "metadata": {
    "tags": [
     "hide-cell"
    ]
   },
   "outputs": [],
   "source": [
    "import numpy as np\n",
    "import matplotlib.pyplot as plt"
   ]
  },
  {
   "cell_type": "markdown",
   "metadata": {},
   "source": [
    "# Finite differences for the heat equation\n",
    "\n",
    "## Finite-difference formulation\n",
    "\n",
    "The 1D heat equation for diffusion (conduction) only and a constant thermal conductivity is\n",
    "\n",
    "\\begin{equation}\n",
    "  \\rho C_p \\frac{\\partial T}{\\partial t} = k \\frac{\\partial^2 T}{\\partial x^2}\n",
    "\\end{equation}\n",
    "\n",
    "The second-order spatial derivative of temperature can be approximated with finite differences as\n",
    "\n",
    "\\begin{align}\n",
    "  \\frac{\\partial^2 T}{\\partial x^2}\\Big\\vert_{x=x_1}^{t=t_1} \n",
    "&\\approx \\left(\\frac{\\partial T}{\\partial x}\\Big\\vert_{x=x_1+0.5\\Delta x}^{t=t_1} - \\frac{\\partial T}{\\partial x}\\Big   \\vert_{x=x_1-0.5\\Delta x}^{t=t_1}\\right) / \\Delta x \\newline\n",
    "&\\approx \\left(\\frac{T_{x=x_1+\\Delta x}^{t=t_1} - T_{x=x_1}^{t=t_1}}{\\Delta x} - \\frac{T_{x=x_1}^{t=t_1} -   T_{x=x_1-\\Delta x}^{t=t_1}}{\\Delta x}\\right) / \\Delta x\n",
    "  = \\frac{T_{x=x_1+\\Delta x}^{t=t_1} - 2T_{x=x_1}^{t=t_1} + T_{x=x_1 - \\Delta x}^{t=t_1}}{(\\Delta x)^2}\n",
    "\\end{align}\n",
    "\n",
    "Since $x_1 - \\Delta x = x_0$ and $x_1 + \\Delta x = x_2$, we get\n",
    "\n",
    "\\begin{equation}\n",
    "  \\frac{\\partial^2 T}{\\partial x^2}\\Big\\vert_{x=x_1}^{t=t_1} \\approx \\frac{T_{x=x_2}^{t=t_1} - 2T_{x=x_1}^{t=t_1} + T_{x=x_0}^{t=t_1}}{(\\Delta x)^2} = \\frac{T_{2}^{1} - 2T_{1}^{1} + T_{0}^{1}}{(\\Delta x)^2}\n",
    "\\end{equation}\n",
    "\n",
    "where the last formula uses the short hand notation for indices. Note that here the superscripts do not mean \"to the power\" but are indices for time steps.\n",
    "\n",
    "Using the same short hand notation, we can approximate the time derivative of the temperature as\n",
    "\n",
    "\\begin{equation}\n",
    "  \\frac{\\partial T}{\\partial t}\\Big\\vert_{x=x_1}^{t=t_1} \\approx \\frac{T_1^2-T_1^1}{\\Delta t}\n",
    "\\end{equation}\n",
    "\n",
    "These approximations can be generalized as\n",
    "\n",
    "\\begin{align}\n",
    "  \\frac{\\partial^2 T}{\\partial x^2}\\Big\\vert_{x=x_i}^{t=t_q} &\\approx \\frac{T_{i+1}^{q} - 2T_{i}^{q} + T_{i-1}^{q}}{(\\Delta x)^2} \\newline\n",
    "  \\frac{\\partial T}{\\partial t}\\Big\\vert_{x=x_i}^{t=t_q} &\\approx \\frac{T_i^{q+1}-T_i^q}{\\Delta t}\n",
    "\\end{align}\n",
    "\n",
    "And thus the full finite differences approximation of the heat equation can be written as\n",
    "\n",
    "\\begin{equation}\n",
    "  \\rho C_p \\frac{T_i^{q+1}-T_i^q}{\\Delta t} = k \\frac{T_{i+1}^{q} - 2T_{i}^{q} + T_{i-1}^{q}}{(\\Delta x)^2}\n",
    "\\end{equation}\n",
    "\n",
    "This applies to *any* $q$ and $i$. If we know $T$ everywhere at time $t_q$, we can calculate $T$ at time $t_{q+1} = t_q + \\Delta t$."
   ]
  },
  {
   "cell_type": "markdown",
   "metadata": {},
   "source": [
    "### Exercise - The implicit form?\n",
    "\n",
    "- How would the implicit (backward difference in time) approximation look like for the heat equation?\n",
    "    - Recall that in the implicit approximation we used the values from the next time step to approximate the derivative.\n",
    "    - What is the problem in calculating $T_i^q$ using the implicit approximation?"
   ]
  },
  {
   "cell_type": "markdown",
   "metadata": {},
   "source": [
    "## Boundary and initial conditions\n",
    "\n",
    "To start calculating the values of $T$, we need the *initial* values at some time $t_0$. This temperature field is the so called *initial condition* for our problem. It is a type of boundary condition that applies to a time varying field.\n",
    "\n",
    "(Spatial) boundary conditions are needed because when applying finite differences to a differential equation (in space), we need the surrounding values, such as $T_{i+1}$ and $T_{i-1}$ in the case of heat equation, to calculate the next value of $T_{i}$. These values are not available if we are near the geometrical boundary of the problem."
   ]
  },
  {
   "cell_type": "markdown",
   "metadata": {},
   "source": [
    "## Cooling of an intrusion\n",
    "\n",
    "Next we will use finite differences to model the cooling of a (very large) magma intrusion within the crust. The crust is limited by the upper surface and the crust-mantle boundary at the bottom. It is 35 km thick and intruded by a horizontal, granitic magma intrusion (sill) that extends from 5 km to 10 km depth. Our task is to calculate the temperature distribution in the crust after 100 kyrs.\n",
    "\n",
    "Our strategy for solving the problem in Python is the following:\n",
    "\n",
    "0. Draw a picture!\n",
    "1. Decide on model geometry and physical parameters\n",
    "    - One-dimensional\n",
    "    - Homogeneous physical parameters\n",
    "    - $\\Rightarrow$ we can use the equation above\n",
    "2. Set physical parameters ($\\rho$, $C_p$, $k$)\n",
    "3. Set geometrical parameters ($L$, $\\Delta x$ $\\Rightarrow$ `nx`)\n",
    "4. Set total run time and time step size ($t_{total}$, $\\Delta t$ $\\Rightarrow$ `nt`)\n",
    "5. Decide and set boundary condition values $T_0$ and $T_{nx-1}$\n",
    "6. Create two arrays that hold the temperature, size `nx` elements\n",
    "    - `Tnew` for $T^{q+1}$\n",
    "    - `Tprev` for $T^{q}$\n",
    "7. Create an array for grid point locations ($x$ coordinates), size `nx`\n",
    "8. Set `Tprev` to hold the initial temperature field\n",
    "    - Linear geotherm throughout the crust, constant temperature within the sill\n",
    "9. Start the loop that iterates over all the time steps. Within the time step:\n",
    "    - Set the temperature at the boundaries, according to boundary conditions, at `Tnew[0]` and `Tnew[nx-1]`\n",
    "    - Calculate remaining (internal grid points) within `Tnew` based on values of `Tprev`\n",
    "    - Prepare for next time step: Copy all values of `Tnew` to `Tprev`\n"
   ]
  },
  {
   "cell_type": "markdown",
   "metadata": {},
   "source": [
    "### Exercise - Coding your solution, considering your results\n",
    "\n",
    "- Use the outline above to start implementing the code. Once the code seems to work, experiment with it:\n",
    "    - How does changing values of `Cp` and `rho` affect the results?\n",
    "    - Give `dt` values that are close to the critical time step. How do the results change?\n",
    "    - Can the code handle intrusions that are only 500 m in width?\n",
    "- What have we silently assumed in the implementation of the code? For example, can we model the problem in simplified 1D world? What kind of physical processes that are likely to be present may we have omitted?"
   ]
  },
  {
   "cell_type": "code",
   "execution_count": null,
   "metadata": {
    "tags": [
     "raises-exception"
    ]
   },
   "outputs": [],
   "source": [
    "### ANSWER ###\n",
    "\n",
    "import numpy as np\n",
    "import matplotlib.pyplot as plt\n",
    "\n",
    "yr2sec = 60*60*24*365.25  # num of seconds in a year\n",
    "\n",
    "# Set material properties\n",
    "rho = 2900   # kg m^-3\n",
    "Cp = 900     # J kg^-1 K^-1\n",
    "k = 2.5      # W m^-1 K^-1\n",
    "\n",
    "# Set geometry and dimensions\n",
    "L = 35e3         # m\n",
    "nx = 30          # -\n",
    "dx = L / (nx-1)  # m\n",
    "print(\"dx is\", dx, \"m\")\n",
    "\n",
    "silltop = 5e3    # m\n",
    "sillbott = 10e3  # m\n",
    "\n",
    "# Set total time and time step\n",
    "t_total = 0.1e6 * yr2sec          # s\n",
    "dt = 1e4 * yr2sec                 # s\n",
    "nt = int(np.floor(t_total / dt))  # -\n",
    "print(\"Calculating\", nt, \"time steps\")\n",
    "\n",
    "# Check for a stable solution\n",
    "stable = ((k/(rho*Cp)) * dt) / (dx**2)\n",
    "if stable > 0.5:\n",
    "    print('WARNING: Unstable solution expected!')\n",
    "\n",
    "# Set boundary temperature values and intrusion temperature\n",
    "Tsurf = 0.0        # deg C\n",
    "Tmoho = 600.0      # deg C\n",
    "Tintrusion = 700.0 # deg C\n",
    "\n",
    "# Create arrays to hold temperature fields\n",
    "Tnew = np.zeros(nx)\n",
    "Tprev = np.zeros(nx)\n",
    "\n",
    "# Create coordinates of the grid points\n",
    "x = np.linspace(0, L, nx)\n",
    "\n",
    "# Generate initial temperature field\n",
    "for ix in range(nx):\n",
    "    if (x[ix] < sillbott) and (x[ix] > silltop):\n",
    "        Tprev[ix] = Tintrusion\n",
    "    else:\n",
    "        Tprev[ix] = x[ix] * (Tmoho - Tsurf) / L\n",
    "\n",
    "# Plot initial temperature field\n",
    "plt.plot(Tprev, -x, '.-', label='T initial')\n",
    "plt.legend()\n",
    "#plt.show()\n",
    "\n",
    "# Start the loop over time steps\n",
    "curtime = 0\n",
    "while curtime < t_total:\n",
    "    curtime = curtime + dt\n",
    "    \n",
    "    # boundary conditions\n",
    "    Tnew[0] = Tsurf\n",
    "    Tnew[nx-1] = Tmoho\n",
    "    \n",
    "    # internal grid points\n",
    "    for ix in range(1, nx-1):\n",
    "        Tnew[ix] = (k * (Tprev[ix-1] - 2.0*Tprev[ix] + Tprev[ix+1]) / dx**2) * dt / (rho * Cp) + Tprev[ix]\n",
    "        \n",
    "    # copy Tnew to Tprev\n",
    "    Tprev[:] = Tnew[:]\n",
    "    \n",
    "\n",
    "# Plot the final temperature field\n",
    "plt.plot(Tnew, -x, '.-', label='T final')\n",
    "plt.legend()\n",
    "plt.show()"
   ]
  }
 ],
 "metadata": {
  "celltoolbar": "Tags",
  "kernelspec": {
   "display_name": "Python 3",
   "language": "python",
   "name": "python3"
  },
  "language_info": {
   "codemirror_mode": {
    "name": "ipython",
    "version": 3
   },
   "file_extension": ".py",
   "mimetype": "text/x-python",
   "name": "python",
   "nbconvert_exporter": "python",
   "pygments_lexer": "ipython3",
   "version": "3.8.2"
  }
 },
 "nbformat": 4,
 "nbformat_minor": 2
}
