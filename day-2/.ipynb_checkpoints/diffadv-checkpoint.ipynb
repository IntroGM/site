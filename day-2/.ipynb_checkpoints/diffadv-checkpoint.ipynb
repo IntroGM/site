{
 "cells": [
  {
   "cell_type": "markdown",
   "metadata": {},
   "source": [
    "# Heat advection and diffusion\n",
    "\n",
    "## General equation\n",
    "\n",
    "If we add advection and internal heat generation to our heat equation, we get\n",
    "\n",
    "\\begin{equation}\n",
    "  \\rho C_p \\left(\\frac{\\partial T}{\\partial t} + v_x\\frac{\\partial T}{\\partial x}\\right) = k \\frac{\\partial^2 T}{\\partial x^2} + H\n",
    "\\end{equation}\n",
    "\n",
    "If we rearrange the terms to have only the time derivative on the left-hand side, we get\n",
    "\n",
    "\\begin{equation}\n",
    "  \\frac{\\partial T}{\\partial t} = \\frac{k}{\\rho C_p} \\frac{\\partial^2 T}{\\partial x^2} + \\frac{H}{\\rho C_p} - v_x\\frac{\\partial T}{\\partial x}\n",
    "\\end{equation}"
   ]
  },
  {
   "cell_type": "markdown",
   "metadata": {},
   "source": [
    "### Exercise - Advection and diffusion\n",
    "\n",
    "- Write the finite difference approximation (i.e., *discretize*) the advection-diffusion equation. Use the forward difference in time and the central difference in space. Write the expression in form\n",
    "\n",
    "    \\begin{equation}\n",
    "      T_i^{q+1} = \\ldots~T^q~\\mathrm{terms~only~on~this~side}~\\ldots\n",
    "    \\end{equation}\n",
    "\n",
    "- Modify the intrusion code below (or use the one you modified previously):\n",
    "    - Add variables that store the internal heat production $H$ and the advection velocity $v_x$ (what are suitable values?)\n",
    "    - Modify the line within the time loop that calculates the next value of $T$: include the terms for heat generation and advection\n",
    "- Start with $H=0$ and $v_x = 0$. Gradually change these values.\n",
    "    - How do the results change as you give non-zero values for these terms?\n",
    "    - What happens if $v_x > 0$ compared to $v_x < 0$?\n",
    "    - What if $v_x$ has a large (positive or negative) value?\n",
    " \n",
    "#### Extra tasks\n",
    "\n",
    "- Remove the initial hot intrusion. Instead, add spatially variable internal heat generation. For this, you will need to introduce new numpy array (of size `nx`), fill it with values of internal heat generation, and use it (`H[ix]` instead of `H`) when you calculate the new temperature value.\n",
    "- Calculating the heat flow\n",
    "    - Heat flow is defined as $q=k\\frac{dT}{dx}$. Write an approximation for $q$ by replacing the derivative with a finite difference expression.\n",
    "    - Modify the code so that you create an array (of size `nt`) that stores surface heat flow values each time step. Within the time loop, calculate each time step the heat flow between two topmost grid points.\n",
    "    - After the time loop, plot the recorded surface heat flow history."
   ]
  },
  {
   "cell_type": "markdown",
   "metadata": {},
   "source": [
    "### Original equation\n",
    "\n",
    "\\begin{equation}\n",
    "  \\frac{\\partial T}{\\partial t} = \\frac{k}{\\rho C_p} \\frac{\\partial^2 T}{\\partial x^2} + \\frac{H}{\\rho C_p} - v_x\\frac{\\partial T}{\\partial x}\n",
    "\\end{equation}"
   ]
  },
  {
   "cell_type": "markdown",
   "metadata": {},
   "source": [
    "### Discretized equation\n",
    "\n",
    "\\begin{equation}\n",
    "  \\frac{T_i^{q+1}-T_i^q}{\\Delta t} = \\frac{k}{\\rho C_p} \\frac{T_{i+1}^{q} - 2T_{i}^{q} + T_{i-1}^{q}}{(\\Delta x)^2} +\n",
    "  \\frac{H}{\\rho C_p} - v_x \\frac{T_{i+1}^{q} - T_{i-1}^{q}}{2 \\Delta x}\n",
    "\\end{equation}"
   ]
  },
  {
   "cell_type": "markdown",
   "metadata": {},
   "source": [
    "### Solved equation\n",
    "\n",
    "\\begin{equation}\n",
    "  T_i^{q+1} = \\left[ \\frac{k}{\\rho C_p} \\frac{T_{i+1}^{q} - 2T_{i}^{q} + T_{i-1}^{q}}{(\\Delta x)^2} +\n",
    "  \\frac{H}{\\rho C_p} - v_x \\frac{T_{i+1}^{q} - T_{i-1}^{q}}{2 \\Delta x} \\right] \\Delta t + T_i^q\n",
    "\\end{equation}"
   ]
  },
  {
   "cell_type": "code",
   "execution_count": 11,
   "metadata": {},
   "outputs": [
    {
     "name": "stdout",
     "output_type": "stream",
     "text": [
      "dx is 7000.0 m\n",
      "Calculating 1000 time steps\n"
     ]
    },
    {
     "name": "stderr",
     "output_type": "stream",
     "text": [
      "<ipython-input-11-77c98517e819>:67: RuntimeWarning: overflow encountered in double_scalars\n",
      "  Tnew[ix] = (k / (rho * Cp) * (Tprev[ix-1] - 2.0*Tprev[ix] + Tprev[ix+1]) / dx**2 + H / (rho * Cp) - vx * (Tprev[ix+1] - Tprev[ix-1])/(2 * dx)) * dt + Tprev[ix]\n",
      "<ipython-input-11-77c98517e819>:67: RuntimeWarning: invalid value encountered in double_scalars\n",
      "  Tnew[ix] = (k / (rho * Cp) * (Tprev[ix-1] - 2.0*Tprev[ix] + Tprev[ix+1]) / dx**2 + H / (rho * Cp) - vx * (Tprev[ix+1] - Tprev[ix-1])/(2 * dx)) * dt + Tprev[ix]\n"
     ]
    },
    {
     "data": {
      "image/png": "[encoded data removed]",
      "text/plain": [
       "<Figure size 432x288 with 1 Axes>"
      ]
     },
     "metadata": {
      "needs_background": "light"
     },
     "output_type": "display_data"
    }
   ],
   "source": [
    "import numpy as np\n",
    "import matplotlib.pyplot as plt\n",
    "\n",
    "yr2sec = 60*60*24*365.25  # num of seconds in a year\n",
    "\n",
    "# Set material properties\n",
    "rho = 2900   # kg m^-3\n",
    "Cp = 900     # J kg^-1 K^-1\n",
    "k = 2.5      # W m^-1 K^-1\n",
    "H = 0.0      # uW / m^3\n",
    "vx = 0.1       # mm/yr\n",
    "\n",
    "# Set geometry and dimensions\n",
    "L = 35e3         # m\n",
    "nx =           # -\n",
    "dx = L / (nx-1)  # m\n",
    "print(\"dx is\", dx, \"m\")\n",
    "\n",
    "# Convert units\n",
    "vx = vx / 1000 / yr2sec\n",
    "H = H / 1e6\n",
    "\n",
    "silltop = 5e3    # m\n",
    "sillbott = 10e3  # m\n",
    "\n",
    "# Set total time and time step\n",
    "t_total = 10.0e6 * yr2sec          # s\n",
    "dt = 1e4 * yr2sec                 # s\n",
    "nt = int(np.floor(t_total / dt))  # -\n",
    "print(\"Calculating\", nt, \"time steps\")\n",
    "\n",
    "# Set boundary temperature values and intrusion temperature\n",
    "Tsurf = 0.0        # deg C\n",
    "Tmoho = 600.0      # deg C\n",
    "Tintrusion = 700.0 # deg C\n",
    "\n",
    "# Create arrays to hold temperature fields\n",
    "Tnew = np.zeros(nx)\n",
    "Tprev = np.zeros(nx)\n",
    "\n",
    "# Create coordinates of the grid points\n",
    "x = np.linspace(0, L, nx)\n",
    "\n",
    "# Generate initial temperature field\n",
    "for ix in range(nx):\n",
    "    if (x[ix] < sillbott) and (x[ix] > silltop):\n",
    "        Tprev[ix] = Tintrusion\n",
    "    else:\n",
    "        Tprev[ix] = x[ix] * (Tmoho - Tsurf) / L\n",
    "\n",
    "# Plot initial temperature field\n",
    "plt.plot(Tprev, -x, '.-', label='T initial')\n",
    "plt.legend()\n",
    "#plt.show()\n",
    "\n",
    "# Start the loop over time steps\n",
    "curtime = 0\n",
    "while curtime < t_total:\n",
    "    curtime = curtime + dt\n",
    "    \n",
    "    # boundary conditions\n",
    "    Tnew[0] = Tsurf\n",
    "    Tnew[nx-1] = Tmoho\n",
    "    \n",
    "    # internal grid points\n",
    "    for ix in range(1, nx-1):\n",
    "        Tnew[ix] = (k / (rho * Cp) * (Tprev[ix-1] - 2.0*Tprev[ix] + Tprev[ix+1]) / dx**2 + H / (rho * Cp) - vx * (Tprev[ix+1] - Tprev[ix-1])/(2 * dx)) * dt + Tprev[ix]\n",
    "        \n",
    "    # copy Tnew to Tprev\n",
    "    Tprev[:] = Tnew[:]\n",
    "    \n",
    "\n",
    "# Plot the final temperature field\n",
    "plt.plot(Tnew, -x, '.-', label='T final')\n",
    "plt.legend()\n",
    "plt.show()\n"
   ]
  },
  {
   "cell_type": "code",
   "execution_count": null,
   "metadata": {},
   "outputs": [],
   "source": []
  }
 ],
 "metadata": {
  "kernelspec": {
   "display_name": "Python 3",
   "language": "python",
   "name": "python3"
  },
  "language_info": {
   "codemirror_mode": {
    "name": "ipython",
    "version": 3
   },
   "file_extension": ".py",
   "mimetype": "text/x-python",
   "name": "python",
   "nbconvert_exporter": "python",
   "pygments_lexer": "ipython3",
   "version": "3.8.2"
  }
 },
 "nbformat": 4,
 "nbformat_minor": 2
}
