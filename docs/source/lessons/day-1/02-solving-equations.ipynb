{
 "cells": [
  {
   "cell_type": "markdown",
   "id": "39085cf6-6311-4ebf-9af6-91c6638f2ee2",
   "metadata": {
    "editable": true,
    "slideshow": {
     "slide_type": "slide"
    },
    "tags": []
   },
   "source": [
    "# Solving equations"
   ]
  },
  {
   "cell_type": "markdown",
   "id": "41128bcd-306f-4963-b5de-daf81d93b8a2",
   "metadata": {
    "editable": true,
    "slideshow": {
     "slide_type": "slide"
    },
    "tags": []
   },
   "source": [
    "## Goals of this lesson\n",
    "\n",
    "- Provide a quick overview of what we need to know in order to **solve equations**\n",
    "- Establish the necessary background for why we need ot use **numerical solutions** to equations"
   ]
  },
  {
   "cell_type": "markdown",
   "id": "2d93ec7d-f7c8-42ab-b3f9-675b9365ef6f",
   "metadata": {
    "editable": true,
    "slideshow": {
     "slide_type": "slide"
    },
    "tags": []
   },
   "source": [
    "## Finding a solution\n",
    "\n",
    "We have now seen the general form of several different equations we will be using to model geodynamic processes, such as the heat transfer equation below\n",
    "\n",
    "$$\n",
    "\\rho c_{\\mathrm{p}} \\left( \\frac{\\partial T}{\\partial t} + V \\cdot T \\right) = \\nabla \\cdot k \\nabla T + A\n",
    "$$\n",
    "\n",
    "but how do we go from this form of the equation to a solution in the form\n",
    "\n",
    "$$\n",
    "T(x, y, z, t) = \\mathrm{...?}\n",
    "$$"
   ]
  },
  {
   "cell_type": "markdown",
   "id": "51436921-98fe-475a-a30f-cd3830ba9667",
   "metadata": {
    "editable": true,
    "slideshow": {
     "slide_type": "slide"
    },
    "tags": []
   },
   "source": [
    "## A simpler example\n",
    "\n",
    "Let's start simpler.\n",
    "\n",
    "### Steady-state heat conduction in one dimension (1D)\n",
    "\n",
    "$$\n",
    "\\rho c_{\\mathrm{p}} \\left( \\frac{\\partial T}{\\partial t} + v_{z} \\frac{\\partial T}{\\partial z} \\right) = \\frac{\\partial}{\\partial z} \\left(k \\frac{\\partial T}{\\partial z} \\right) + A\n",
    "$$\n",
    "\n",
    "where\n",
    "\n",
    "- Time dependence is represented by $\\frac{\\partial T}{\\partial t}$\n",
    "- Advection is represented by $v_{z} \\frac{\\partial T}{\\partial z}$\n",
    "- Conduction is represented by $\\frac{\\partial}{\\partial z} \\left(k \\frac{\\partial T}{\\partial z} \\right)$\n",
    "- Heat production is represented by $A$"
   ]
  },
  {
   "cell_type": "markdown",
   "id": "846c5995-d2fb-466a-9c5e-2690779f49b5",
   "metadata": {
    "editable": true,
    "slideshow": {
     "slide_type": "subslide"
    },
    "tags": []
   },
   "source": [
    "In the case of steady-state heat conduction without advection or heat production, our equation simplifies considerably:\n",
    "\n",
    "$$\n",
    "\\rho c_{\\mathrm{p}} \\left( \\cancelto{0}{\\frac{\\partial T}{\\partial t}} + \\cancelto{0}{v_{z} \\frac{\\partial T}{\\partial z}} \\right) = \\frac{\\partial}{\\partial z} \\left(k \\frac{\\partial T}{\\partial z} \\right) + \\cancelto{0}{A}\n",
    "$$\n",
    "\n",
    "resulting in\n",
    "\n",
    "$$\n",
    "\\frac{\\partial}{\\partial z} \\left(k \\frac{\\partial T}{\\partial z} \\right) = 0\n",
    "$$"
   ]
  },
  {
   "cell_type": "markdown",
   "id": "942017eb-30c8-4e5b-bea8-529bfbbff976",
   "metadata": {
    "editable": true,
    "slideshow": {
     "slide_type": "subslide"
    },
    "tags": []
   },
   "source": [
    "In fact, we can even factor out the thermal conductivity $k$ to yield an even simpler relationship:\n",
    "\n",
    "$$\n",
    "\\begin{align}\n",
    "\\frac{\\partial}{\\partial z} \\left(k \\frac{\\partial T}{\\partial z} \\right) &= 0 \\\\\n",
    "\\frac{\\partial}{\\partial z} \\left(\\frac{\\partial T}{\\partial z} \\right) &= 0 \\\\\n",
    "\\frac{\\partial^{2} T}{\\partial z^{2}} &= 0\n",
    "\\end{align}\n",
    "$$\n",
    "\n",
    "Here we are thus left with simply the second derivative of temperature $T$ with respect to depth $z$. We can solve this! We just need to integrate twice with respect to $z$."
   ]
  },
  {
   "cell_type": "markdown",
   "id": "7faf840c-8044-414c-a005-4a2bf34e82af",
   "metadata": {
    "editable": true,
    "slideshow": {
     "slide_type": "slide"
    },
    "tags": []
   },
   "source": [
    "## A simpler example?\n",
    "\n",
    "We can integrate with respect to $z$ once to find\n",
    "\n",
    "$$\n",
    "\\begin{align}\n",
    "\\int \\frac{d^{2} T}{d z^{2}} dz &= \\int 0 dz \\\\\n",
    "\\frac{d T}{d z} &= c_{1} \\\\\n",
    "\\frac{d T}{d z} + c_{1} &= 0\n",
    "\\end{align}\n",
    "$$\n",
    "\n",
    "noting both integration constants would be combined as $c_{1}$."
   ]
  },
  {
   "cell_type": "markdown",
   "id": "afad922b-cd93-4827-b6b9-d5181bd6b24f",
   "metadata": {
    "editable": true,
    "slideshow": {
     "slide_type": "subslide"
    },
    "tags": []
   },
   "source": [
    "A second integration yields\n",
    "\n",
    "$$\n",
    "\\begin{align}\n",
    "\\int \\left(\\frac{d T}{d z} + c_{1} \\right) dz &= \\int 0 dz \\\\\n",
    "\\int \\frac{d T}{d z} dz + \\int c_{1} dz &= \\int 0 dz \\\\\n",
    "T(z) + c_{1}z &= c_{2} \\\\\n",
    "T(z) + c_{1}z + c_{2} &= 0 \\\\\n",
    "T(z) &= -c_{1}z - c_{2}\n",
    "\\end{align}\n",
    "$$"
   ]
  },
  {
   "cell_type": "markdown",
   "id": "4aedcdc8-9800-41e0-9ed9-4bc5afed0d83",
   "metadata": {
    "editable": true,
    "slideshow": {
     "slide_type": "slide"
    },
    "tags": []
   },
   "source": [
    "## OK, now what?\n",
    "\n",
    "$$\n",
    "T(z) = -c_{1}z - c_{2}\n",
    "$$\n",
    "\n",
    "OK, so we now have a solution, but we cannot calculate temperatures yet because we don't know the values of $c_{1}$ and $c_{2}$, the constants of integration.\n",
    "\n",
    "- What do we need to be able to find $c_{1}$ and $c_{2}$?"
   ]
  },
  {
   "cell_type": "markdown",
   "id": "bc1308ff-9898-41e8-9ae2-c2e515b6e72b",
   "metadata": {
    "editable": true,
    "slideshow": {
     "slide_type": "slide"
    },
    "tags": []
   },
   "source": [
    "## Boundary conditions\n",
    "\n",
    "With two integrations we end up with two unknown constants.\n",
    "\n",
    "In order to find the values of the constants, we need to use **boundary conditions**, known (or assumed) values for certain variables in our equation.\n",
    "\n",
    "There are two natural choices for our heat transfer problem:\n",
    "\n",
    "- Known temperatures at certain depths\n",
    "- Known temperature gradients at certain depths"
   ]
  },
  {
   "cell_type": "markdown",
   "id": "f5efdc58-2de4-4e34-8183-6d20b1b92c84",
   "metadata": {
    "editable": true,
    "slideshow": {
     "slide_type": "subslide"
    },
    "tags": []
   },
   "source": [
    "$$\n",
    "T(z) = -c_{1}z - c_{2}\n",
    "$$\n",
    "\n",
    "Let's make some assumptions:\n",
    "\n",
    "- We know the surface temperature at $z = 0$ is $T = 0$\n",
    "- We know the temperature at some depth $z = L$ is $T = 1000 ^{\\circ}\\mathrm{C}$\n",
    "\n",
    "If we substitute in assumption 1 we find $c_{2} = 0$. If we substitute in assumption 2 we find $c_{1} = -1000 / L$."
   ]
  },
  {
   "cell_type": "markdown",
   "id": "9232bbd5-171d-4701-8103-68019633e187",
   "metadata": {
    "editable": true,
    "slideshow": {
     "slide_type": ""
    },
    "tags": []
   },
   "source": [
    "Now we can finally see our exciting result with $c_{1} = -1000 / L$ and $c_{2} = 0$...\n",
    "\n",
    "$$\n",
    "\\begin{align}\n",
    "T(z) &= -c_{1}z - c_{2}\n",
    "T(z) &= \\frac{1000}{L} z\n",
    "\\end{align}\n",
    "$$\n",
    "\n",
    "...a straight line."
   ]
  },
  {
   "cell_type": "markdown",
   "id": "e889a546-4c26-4618-a548-bcf529462ae6",
   "metadata": {
    "editable": true,
    "slideshow": {
     "slide_type": "slide"
    },
    "tags": []
   },
   "source": [
    "## Other considerations\n",
    "\n"
   ]
  }
 ],
 "metadata": {
  "kernelspec": {
   "display_name": "Python 3 (ipykernel)",
   "language": "python",
   "name": "python3"
  },
  "language_info": {
   "codemirror_mode": {
    "name": "ipython",
    "version": 3
   },
   "file_extension": ".py",
   "mimetype": "text/x-python",
   "name": "python",
   "nbconvert_exporter": "python",
   "pygments_lexer": "ipython3",
   "version": "3.11.9"
  },
  "rise": {
   "theme": "sky"
  },
  "toc": {
   "base_numbering": 0
  }
 },
 "nbformat": 4,
 "nbformat_minor": 5
}
