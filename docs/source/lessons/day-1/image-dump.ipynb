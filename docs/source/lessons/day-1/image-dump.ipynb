{
 "cells": [
  {
   "cell_type": "markdown",
   "id": "e0ca2b09-b6f4-4fe2-8a13-f48799b9eb4f",
   "metadata": {},
   "source": [
    "![](img/initial-conditions-geotherm.png)"
   ]
  },
  {
   "cell_type": "code",
   "execution_count": null,
   "id": "9c383d13-209f-46fa-ab2c-b6b16af17e2d",
   "metadata": {},
   "outputs": [],
   "source": []
  }
 ],
 "metadata": {
  "kernelspec": {
   "display_name": "Python 3 (ipykernel)",
   "language": "python",
   "name": "python3"
  },
  "language_info": {
   "codemirror_mode": {
    "name": "ipython",
    "version": 3
   },
   "file_extension": ".py",
   "mimetype": "text/x-python",
   "name": "python",
   "nbconvert_exporter": "python",
   "pygments_lexer": "ipython3",
   "version": "3.11.6"
  }
 },
 "nbformat": 4,
 "nbformat_minor": 5
}
