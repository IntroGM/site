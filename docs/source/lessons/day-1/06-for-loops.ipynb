{
 "cells": [
  {
   "cell_type": "markdown",
   "metadata": {},
   "source": [
    "# for loops\n",
    "\n",
    "## Lesson materials\n",
    "\n",
    "Materials for this lesson can be found on the website for the [Introduction to Python for Geographic Data Analysis book](https://python-gis-book.readthedocs.io/en/latest/part1/chapter-02/nb/01-for-loops.html)."
   ]
  },
  {
   "cell_type": "markdown",
   "metadata": {},
   "source": [
    "## Student notebooks\n",
    "\n",
    "Students in the course can work through notebooks with limited code cell content by creating their copy of the notebooks from GitHub Classroom. Instructions for this can be found on the {doc}`../../course-info/github-classroom` page."
   ]
  },
  {
   "cell_type": "markdown",
   "metadata": {},
   "source": [
    "## Exercise(s)\n",
    "\n",
    "### Putting it together\n",
    "\n",
    "- Create a new NumPy array called `numbers` that starts at 1 and goes to 100 in increments of 1\n",
    "- Create a new NumPy array of zeros called `squared` that is the same size as `numbers`\n",
    "- Using a `for` loop, calculate the square of each value in `numbers` and store it in the corresponding location in `squared`"
   ]
  },
  {
   "cell_type": "code",
   "execution_count": null,
   "metadata": {},
   "outputs": [],
   "source": [
    "# You can put your code for the exercise above in here :)"
   ]
  },
  {
   "cell_type": "markdown",
   "metadata": {},
   "source": [
    "### Let's get functional\n",
    "\n",
    "- Take your code above and use it to create a new Python function `square()` that accepts a NumPy array and returns an array of squared values\n",
    "- Do you get the expected results when using your function?\n",
    "- Can you break your function (get it to give an error message)? If so, how?"
   ]
  },
  {
   "cell_type": "code",
   "execution_count": null,
   "metadata": {},
   "outputs": [],
   "source": [
    "# Put your code for the exercise above in here"
   ]
  },
  {
   "cell_type": "markdown",
   "metadata": {},
   "source": [
    "### Drag race\n",
    "\n",
    "IPython has a magic function called ``%timeit`` that you can use in a Jupyter Notebook to calculate how long it takes a line of code (or program) to execute."
   ]
  },
  {
   "cell_type": "code",
   "execution_count": null,
   "metadata": {},
   "outputs": [],
   "source": [
    "import numpy as np\n",
    "\n",
    "%timeit np.ones(100000000).mean()"
   ]
  },
  {
   "cell_type": "markdown",
   "metadata": {},
   "source": [
    "We can use this now to compare the performance of your new `square()` function with calculating the square of values directly in NumPy\n",
    "\n",
    "- Create a new NumPy array called `input` that goes from 1 to 10 in increments of 0.0000001\n",
    "- Use `%timeit` with your function above to calculate the square of `input`, storing the output in an array called `out1`\n",
    "- Compare the performance of your function to simply squaring the `input` array directly and storing its output as `out2`\n",
    "- Can you see any benefits to using NumPy?"
   ]
  },
  {
   "cell_type": "code",
   "execution_count": null,
   "metadata": {},
   "outputs": [],
   "source": [
    "# Put your code for the exercise above in here"
   ]
  }
 ],
 "metadata": {
  "kernelspec": {
   "display_name": "Python 3 (ipykernel)",
   "language": "python",
   "name": "python3"
  },
  "language_info": {
   "codemirror_mode": {
    "name": "ipython",
    "version": 3
   },
   "file_extension": ".py",
   "mimetype": "text/x-python",
   "name": "python",
   "nbconvert_exporter": "python",
   "pygments_lexer": "ipython3",
   "version": "3.11.6"
  }
 },
 "nbformat": 4,
 "nbformat_minor": 4
}
