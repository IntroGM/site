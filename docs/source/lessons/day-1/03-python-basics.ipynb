{
 "cells": [
  {
   "cell_type": "markdown",
   "metadata": {},
   "source": [
    "# Basic elements of Python\n",
    "\n",
    "These Python lessons provide an overview of some of the basic elements in the Python programming language. In the first set they include how to define and use variables, the concept of a data type, and how to determine the data type of a variable in Python, and Python lists. Later parts of the lessons introduce the [NumPy numerical Python library](http://www.numpy.org/), and the main conceptual programming components we will use: functions, loops, and conditional statements.\n",
    "\n",
    "Please note that this is not intended to be a comprehensive introduction, but rather something to give you enough background to be able to work on the programming assignments later in this course. For more about basic Python programming we refer you to the {doc}`../../course-info/resources` page.\n",
    "\n",
    "## Sources\n",
    "\n",
    "With the exception of the NumPy lesson, these lessons are based on the materials from the [Introduction to Python for Geographic Data Analysis book](https://python-gis-book.readthedocs.io/en/develop/index.html).\n",
    "\n",
    "## About this document\n",
    "\n",
    "This is a Jupyter Notebook, with content designed to cover the basic concepts of programming in Python. The contents of this document are divided into cells, which can contain Markdown-formatted text, Python code, or raw text. You can execute code in a cell by pressing <kbd>Shift</kbd>+<kbd>Enter</kbd>. Try this out in the examples below."
   ]
  },
  {
   "cell_type": "markdown",
   "metadata": {},
   "source": [
    "## Getting started\n",
    "Presumably if you have made it this far, you have already opened this Jupyter Notebook on the CSC Notebooks platform or your own computer. If not, you can launch [Jupyter Lab](http://jupyterlab.readthedocs.io/en/stable/) on your own computer by typing the following in a terminal window:\n",
    "\n",
    "```bash\n",
    "jupyter lab\n",
    "```\n",
    "\n",
    "This should open a new Jupyter Lab session from which you can open this document by navigating its location in the **Files** tab and double clicking on it. After that you should be ready to go."
   ]
  },
  {
   "cell_type": "markdown",
   "metadata": {},
   "source": [
    "## Lesson materials\n",
    "\n",
    "Materials for this lesson can be found on the website for the [Introduction to Python for Geographic Data Analysis book](https://python-gis-book.readthedocs.io/en/develop/part1/chapter-02/nb/00-python-basics.html)."
   ]
  },
  {
   "cell_type": "markdown",
   "metadata": {},
   "source": [
    "## Student notebooks\n",
    "\n",
    "Students in the course can work through notebooks with limited code cell content by creating their copy of the notebooks from GitHub Classroom. Instructions for this can be found on the {doc}`../../course-info/github-classroom` page."
   ]
  },
  {
   "cell_type": "markdown",
   "metadata": {},
   "source": [
    "## Exercise - Getting to know lists\n",
    "\n",
    "- Create a Python list containing 4 items/values and store it with the variable `my_list`.\n",
    "- After you have created the list, check its data type, then use the index values to check the data types of the contents of the list.\n",
    "- What kinds of data can you store in lists? Does each list value need to be the same data type?"
   ]
  },
  {
   "cell_type": "code",
   "execution_count": null,
   "metadata": {},
   "outputs": [],
   "source": [
    "# You can create your example list in this cell\n",
    "# By the way, you can comment lines in Python (or a Jupyter Notebook Python cell)\n",
    "# by starting the line with a number sign\n",
    "# Comments are not executed, but can help explain what you code does\n",
    "\n",
    "# Put your code below\n"
   ]
  }
 ],
 "metadata": {
  "celltoolbar": "Tags",
  "kernelspec": {
   "display_name": "Python 3 (ipykernel)",
   "language": "python",
   "name": "python3"
  },
  "language_info": {
   "codemirror_mode": {
    "name": "ipython",
    "version": 3
   },
   "file_extension": ".py",
   "mimetype": "text/x-python",
   "name": "python",
   "nbconvert_exporter": "python",
   "pygments_lexer": "ipython3",
   "version": "3.11.6"
  }
 },
 "nbformat": 4,
 "nbformat_minor": 4
}
