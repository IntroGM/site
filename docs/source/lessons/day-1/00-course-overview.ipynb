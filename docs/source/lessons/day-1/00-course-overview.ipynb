{
 "cells": [
  {
   "cell_type": "markdown",
   "metadata": {
    "editable": true,
    "slideshow": {
     "slide_type": "slide"
    },
    "tags": []
   },
   "source": [
    "# Course overview"
   ]
  },
  {
   "cell_type": "markdown",
   "metadata": {
    "editable": true,
    "slideshow": {
     "slide_type": "slide"
    },
    "tags": []
   },
   "source": [
    "## Let's get to know one another"
   ]
  },
  {
   "cell_type": "markdown",
   "metadata": {
    "editable": true,
    "slideshow": {
     "slide_type": "subslide"
    },
    "tags": []
   },
   "source": [
    "### Who am I?\n",
    "\n",
    "Dave Whipp, Professor\n",
    "\n",
    "- Geodynamics of convergent orogens\n",
    "- Geomorphology\n",
    "- High-performance computing"
   ]
  },
  {
   "cell_type": "markdown",
   "metadata": {
    "editable": true,
    "slideshow": {
     "slide_type": "subslide"
    },
    "tags": []
   },
   "source": [
    "### Who is he?\n",
    "\n",
    "Leevi Tuikka, Doctoral researcher\n",
    "\n",
    "- Geodynamics of Paleoproterozoic orogens\n",
    "- Geodynamic modelling\n",
    "- High-performance computing"
   ]
  },
  {
   "cell_type": "markdown",
   "metadata": {
    "editable": true,
    "slideshow": {
     "slide_type": "subslide"
    },
    "tags": []
   },
   "source": [
    "### Who are you?\n",
    "\n",
    "- Name\n",
    "- Study program / home university\n",
    "- Degree pursued (MSc, Ph.D., etc.)\n",
    "- Thesis topic"
   ]
  },
  {
   "cell_type": "markdown",
   "metadata": {
    "editable": true,
    "slideshow": {
     "slide_type": "slide"
    },
    "tags": []
   },
   "source": [
    "## Practical matters"
   ]
  },
  {
   "cell_type": "markdown",
   "metadata": {
    "editable": true,
    "slideshow": {
     "slide_type": "subslide"
    },
    "tags": []
   },
   "source": [
    "### Daily schedule\n",
    "\n",
    "- **9:15-10:30: Morning session 1**\n",
    "- 10:30-10:45: Coffee break\n",
    "- **10:45-12:00: Morning session 2**\n",
    "- 12:00-13:00: Lunch\n",
    "- **13:00-14:15: Afternoon session 1**\n",
    "- 14:15-14:30: Coffee break\n",
    "- **14:30-15:45: Afternoon session 2**"
   ]
  },
  {
   "cell_type": "markdown",
   "metadata": {
    "editable": true,
    "slideshow": {
     "slide_type": "slide"
    },
    "tags": []
   },
   "source": [
    "## Computer stuff and course website"
   ]
  },
  {
   "cell_type": "markdown",
   "metadata": {
    "editable": true,
    "slideshow": {
     "slide_type": "subslide"
    },
    "tags": []
   },
   "source": [
    "### Software\n",
    "\n",
    "- All software used in this course is freely available\n",
    "- A list of software available for download is provided on the course website (next slide)"
   ]
  },
  {
   "cell_type": "markdown",
   "metadata": {
    "editable": true,
    "slideshow": {
     "slide_type": "subslide"
    },
    "tags": []
   },
   "source": [
    "### Course website\n",
    "\n",
    "All course materials will be posted to the course website: [https://introgm.github.io](https://introgm.github.io)\n",
    "\n",
    "- This page will provide links to lecture materials, scripts used for the course, and other materials\n",
    "- We will be updating the page as we go.\n",
    "\n",
    "The materials are freely available for use by anyone, subject to the license, so feel free to share with your friends/colleagues!"
   ]
  },
  {
   "cell_type": "markdown",
   "metadata": {
    "editable": true,
    "slideshow": {
     "slide_type": "slide"
    },
    "tags": []
   },
   "source": [
    "## Course goals and learning objectives"
   ]
  },
  {
   "cell_type": "markdown",
   "metadata": {
    "editable": true,
    "slideshow": {
     "slide_type": "subslide"
    },
    "tags": []
   },
   "source": [
    "### Course goals\n",
    "\n",
    "- Understand the fundamental physical equations solved in numerical geodynamic models, how they work, and how they affect numerical experiments\n",
    "- Learn how to convert the main equations used to model lithospheric deformation into simple programs\n",
    "- Develop a background understanding of geodynamics that allows you to properly understand the behavior of geodynamic numerical models"
   ]
  },
  {
   "cell_type": "markdown",
   "metadata": {
    "editable": true,
    "slideshow": {
     "slide_type": "subslide"
    },
    "tags": []
   },
   "source": [
    "### Learning objectives\n",
    "\n",
    "At the end of this course, students should be able to:\n",
    "\n",
    "- Solve partial differential equations using the finite-difference method\n",
    "- Differentiate between and implement various boundary and initial conditions in numerical models\n",
    "- Create their own 1D geodynamic models and know how to use modern numerical geodynamic modelling software to simulate common physical processes in the Earth (heat transfer, rock deformation, etc.)"
   ]
  },
  {
   "cell_type": "markdown",
   "metadata": {
    "editable": true,
    "slideshow": {
     "slide_type": "subslide"
    },
    "tags": []
   },
   "source": [
    "### Working methods\n",
    "\n",
    "<p align=\"left\">The course involves a combination of lectures and computer-based exercises</p>\n",
    "\n",
    "- We will try to keep lectures to a minimum, but we do need to present some material you will need to complete the computer exercises\n",
    "- For the computer exercises, you can work together with a partner and we will discuss your solutions after you have completed them"
   ]
  },
  {
   "cell_type": "markdown",
   "metadata": {
    "slideshow": {
     "slide_type": "slide"
    }
   },
   "source": [
    "## Schedule\n",
    "\n",
    "***Subject to change - Last updated 16.5.2024***"
   ]
  },
  {
   "cell_type": "markdown",
   "metadata": {
    "slideshow": {
     "slide_type": "subslide"
    }
   },
   "source": [
    "### Day 1\n",
    "\n",
    "#### Morning\n",
    "\n",
    "- Course overview and introductions\n",
    "- Key physical processes/concepts\n",
    "- Solving equations\n",
    "- *Computer setup/introduction* (optional)\n",
    "\n",
    "#### Afternoon\n",
    "\n",
    "- Python/computing essentials and exercises\n",
    "- Exercise review and Q&A"
   ]
  },
  {
   "cell_type": "markdown",
   "metadata": {
    "slideshow": {
     "slide_type": "subslide"
    }
   },
   "source": [
    "### Day 2\n",
    "\n",
    "#### Morning\n",
    "\n",
    "- The finite-difference method, part I\n",
    "- Heat conduction and advection in 1D\n",
    "\n",
    "#### Afternoon\n",
    "\n",
    "- Finite-difference method exercises\n",
    "- Exercise review and Q&A"
   ]
  },
  {
   "cell_type": "markdown",
   "metadata": {
    "slideshow": {
     "slide_type": "subslide"
    }
   },
   "source": [
    "### Day 3\n",
    "\n",
    "#### Morning\n",
    "\n",
    "- Testing your code and benchmarking\n",
    "- Solving the momentum and continuity equations\n",
    "\n",
    "#### Afternoon\n",
    "\n",
    "- Momentum and continuity equations exercises\n",
    "- Exercise review and Q&A"
   ]
  },
  {
   "cell_type": "markdown",
   "metadata": {
    "slideshow": {
     "slide_type": "subslide"
    }
   },
   "source": [
    "### Day 4\n",
    "\n",
    "#### Morning\n",
    "\n",
    "- Cluster computing\n",
    "- Introduction to ASPECT\n",
    "- Running an ASPECT model\n",
    "\n",
    "#### Afternoon\n",
    "\n",
    "- ASPECT exercise, putting it all together\n",
    "- Exercise review, Q&A, data visualization with ParaView"
   ]
  },
  {
   "cell_type": "markdown",
   "metadata": {
    "slideshow": {
     "slide_type": "subslide"
    }
   },
   "source": [
    "### Day 5\n",
    "\n",
    "#### Morning\n",
    "\n",
    "- Modifying / re-running ASPECT experiments\n",
    "- Course project description, ASPECT Q&A\n",
    "\n",
    "#### Afternoon\n",
    "\n",
    "- Free time for experimentation with ASPECT"
   ]
  },
  {
   "cell_type": "markdown",
   "metadata": {
    "editable": true,
    "slideshow": {
     "slide_type": "slide"
    },
    "tags": []
   },
   "source": [
    "## Any questions?"
   ]
  }
 ],
 "metadata": {
  "celltoolbar": "Slideshow",
  "kernelspec": {
   "display_name": "Python 3 (ipykernel)",
   "language": "python",
   "name": "python3"
  },
  "language_info": {
   "codemirror_mode": {
    "name": "ipython",
    "version": 3
   },
   "file_extension": ".py",
   "mimetype": "text/x-python",
   "name": "python",
   "nbconvert_exporter": "python",
   "pygments_lexer": "ipython3",
   "version": "3.11.6"
  },
  "livereveal": {
   "autolaunch": true,
   "theme": "sky"
  }
 },
 "nbformat": 4,
 "nbformat_minor": 4
}
