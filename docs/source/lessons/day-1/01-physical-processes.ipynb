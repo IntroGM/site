{
 "cells": [
  {
   "cell_type": "markdown",
   "id": "c6f16f69-0c5d-496f-ba22-a5630a1d824e",
   "metadata": {
    "editable": true,
    "slideshow": {
     "slide_type": "slide"
    },
    "tags": []
   },
   "source": [
    "# Introduction to geodynamic modelling\n",
    "\n",
    "## Key physical processes and concepts"
   ]
  },
  {
   "cell_type": "markdown",
   "id": "fe1aa8f4-4e24-42ff-a8d9-6465f7a1ff78",
   "metadata": {
    "editable": true,
    "slideshow": {
     "slide_type": "slide"
    },
    "tags": []
   },
   "source": [
    "## Goals of this lesson\n",
    "\n",
    "- Present the main **physical processes and concepts** we need to consider to understand geodynamics (mainly in the lithosphere)\n",
    "\n",
    "- Provide **necessary background** for the rest of the course"
   ]
  },
  {
   "cell_type": "markdown",
   "id": "b82af63e-8d0f-4621-92e0-42f8c3ea1688",
   "metadata": {
    "editable": true,
    "slideshow": {
     "slide_type": "slide"
    },
    "tags": []
   },
   "source": [
    "## Dissecting the course title\n",
    "\n",
    "This course is titled \"Introduction to geodynamic modelling\"\n",
    "\n",
    "- **What does this title bring to mind for you?**"
   ]
  },
  {
   "cell_type": "markdown",
   "id": "5c163d5c-4352-433a-8ea3-13f4fbaaaf6e",
   "metadata": {
    "editable": true,
    "slideshow": {
     "slide_type": "subslide"
    },
    "tags": []
   },
   "source": [
    "This course is titled “Introduction to (*lithospheric*) geodynamic modelling”\n",
    "\n",
    "- Our focus is on the **lithosphere**\n",
    "\n",
    "    - Outermost layer of the Earth that is rigid over geological timescales\n",
    "\n",
    "        - Thermal lithosphere: Portion of outer layers below ~1300°C\n",
    "        - Crust and lithospheric mantle\n",
    "\n",
    "- Mantle convection not part of this course"
   ]
  },
  {
   "cell_type": "markdown",
   "id": "f5fe73ed-1a40-4d4e-940e-be868c661343",
   "metadata": {
    "editable": true,
    "slideshow": {
     "slide_type": "subslide"
    },
    "tags": []
   },
   "source": [
    "This course is titled “Introduction to **geodynamic** modelling”\n",
    "\n",
    "- Our focus is on **geodynamics**\n",
    "\n",
    "    - Plate tectonics and related phenomena\n",
    "    - Physical processes/topics\n",
    "\n",
    "        - Stress and strain\n",
    "        - Heat transfer\n",
    "        - Deformation: Faulting and folding, rheology"
   ]
  },
  {
   "cell_type": "markdown",
   "id": "1ed11ef5-5601-4e23-908b-12770a2b9b2e",
   "metadata": {
    "editable": true,
    "slideshow": {
     "slide_type": "subslide"
    },
    "tags": []
   },
   "source": [
    "This course is titled “Introduction to geodynamic **modelling**”\n",
    "\n",
    "- Our focus is on **modelling**\n",
    "\n",
    "    - Using computers to solve equations and simulate geodynamic processes\n",
    "    - We will learn how to solve equations using numerical methods, and how to implement those numerical solutions in computer code\n",
    "    - Few geodynamic processes are simple enough to be explored without the use of computers"
   ]
  },
  {
   "cell_type": "markdown",
   "id": "bd16fc20-3384-4a9a-a61c-f51321ad73f2",
   "metadata": {
    "editable": true,
    "slideshow": {
     "slide_type": "slide"
    },
    "tags": []
   },
   "source": [
    "## The path forward\n",
    "\n",
    "Now we will briefly review the different **physical processes and concepts** related to geodynamics\n",
    "\n",
    "- In the next lecture, we’ll take an example equation from this lecture and discuss what is needed to solve it\n",
    "\n",
    "In the afternoon you will have time to review basic computing concepts using the Python programming language\n",
    "\n",
    "Some of this may be review for you, but it never hurts to revisit these fundamental topics before moving on to more challenging topics"
   ]
  },
  {
   "cell_type": "markdown",
   "id": "649af5b5-b2bc-46b2-9250-7a5363454b39",
   "metadata": {
    "editable": true,
    "slideshow": {
     "slide_type": "slide"
    },
    "tags": []
   },
   "source": [
    "# Plate tectonics and related phenomena"
   ]
  },
  {
   "cell_type": "markdown",
   "id": "eec5960e-35ba-44b2-a744-17e1198b9a15",
   "metadata": {
    "editable": true,
    "slideshow": {
     "slide_type": "slide"
    },
    "tags": [
     "remove_cell"
    ]
   },
   "source": [
    "## Lithospheric geodynamic processes\n",
    "\n",
    "<img alt=\"The Wilson cycle\" src=\"img/wilson-cycle.png\" width=\"500\" align=\"left\" />\n",
    "\n",
    "- The focus for this lecture will be on the lithosphere and the dynamic processes involved in its deformation and evolution\n",
    "\n",
    "- Many of these processes can be directly linked to Plate Tectonics and the Wilson cycle"
   ]
  },
  {
   "cell_type": "markdown",
   "id": "ae0c4183-d8c8-45a8-8627-a2b626d8e684",
   "metadata": {
    "editable": true,
    "slideshow": {
     "slide_type": "skip"
    },
    "tags": []
   },
   "source": [
    "## Lithospheric geodynamic processes\n",
    "\n",
    "![The Wilson cycle](img/wilson-cycle.png)\n",
    "\n",
    "The focus for this lecture will be on the lithosphere and the dynamic processes involved in its deformation and evolution\n",
    "\n",
    "Many of these processes can be directly linked to Plate Tectonics and the Wilson cycle"
   ]
  },
  {
   "cell_type": "markdown",
   "id": "70d30da1-513d-4b3e-b122-cd07a2e41214",
   "metadata": {
    "editable": true,
    "slideshow": {
     "slide_type": ""
    },
    "tags": []
   },
   "source": []
  }
 ],
 "metadata": {
  "kernelspec": {
   "display_name": "Python 3 (ipykernel)",
   "language": "python",
   "name": "python3"
  },
  "language_info": {
   "codemirror_mode": {
    "name": "ipython",
    "version": 3
   },
   "file_extension": ".py",
   "mimetype": "text/x-python",
   "name": "python",
   "nbconvert_exporter": "python",
   "pygments_lexer": "ipython3",
   "version": "3.11.6"
  },
  "rise": {
   "theme": "sky"
  }
 },
 "nbformat": 4,
 "nbformat_minor": 5
}
