{
 "cells": [
  {
   "cell_type": "markdown",
   "metadata": {},
   "source": [
    "# Parallel performance of a simple Python code\n",
    "Here is a summary of the results from running the `mpi.py` program."
   ]
  },
  {
   "cell_type": "code",
   "execution_count": null,
   "metadata": {},
   "outputs": [],
   "source": [
    "import math\n",
    "import numpy as np\n",
    "import matplotlib.pyplot as plt\n",
    "plt.rcParams['figure.figsize'] = [12,6]"
   ]
  },
  {
   "cell_type": "markdown",
   "metadata": {},
   "source": [
    "## Data from 2024"
   ]
  },
  {
   "cell_type": "code",
   "execution_count": null,
   "metadata": {},
   "outputs": [],
   "source": [
    "# Dave\n",
    "nprocDW = [64, 128, 400]\n",
    "tsecDW = [1.8127, 1.8235, 1.7703]"
   ]
  },
  {
   "cell_type": "code",
   "execution_count": null,
   "metadata": {},
   "outputs": [],
   "source": [
    "# Taavi\n",
    "nprocTH = [400, 250, 128, 256, 2]\n",
    "tsecTH = [1.6464, 1.6550, 1.8639, 1.7926, 21.9166]"
   ]
  },
  {
   "cell_type": "code",
   "execution_count": null,
   "metadata": {},
   "outputs": [],
   "source": [
    "# Emilia\n",
    "nprocET = [125, 5, 2, 400, 1]\n",
    "tsecET = [1.8531, 8.0583, 18.8433, 1.74021, 62.12512]"
   ]
  },
  {
   "cell_type": "code",
   "execution_count": null,
   "metadata": {},
   "outputs": [],
   "source": [
    "# Jonna\n",
    "nprocJH = [1, 100, 200, 2]\n",
    "tsecJH = [61.7302, 1.6890, 1.6253, 19.4444]"
   ]
  },
  {
   "cell_type": "code",
   "execution_count": null,
   "metadata": {},
   "outputs": [],
   "source": [
    "# Lakshika\n",
    "nprocLP = [2, 20, 50, 100, 200]\n",
    "tsecLP = [20.521, 3.0581, 1.92967, 1.8597, 1.6422]"
   ]
  },
  {
   "cell_type": "code",
   "execution_count": null,
   "metadata": {},
   "outputs": [],
   "source": [
    "# Ana\n",
    "nprocAH = [320, 256, 4]\n",
    "tsecAH = [1.7391, 1.7510, 11.4626]"
   ]
  },
  {
   "cell_type": "code",
   "execution_count": null,
   "metadata": {},
   "outputs": [],
   "source": [
    "# Sanni\n",
    "nprocSL = [10, 50, 100, 1]\n",
    "tsecSL = [4.9980, 2.0352, 1.6758, 67.6969]"
   ]
  },
  {
   "cell_type": "code",
   "execution_count": null,
   "metadata": {},
   "outputs": [],
   "source": [
    "# Mehrnoosh\n",
    "nprocMG = [400]\n",
    "tsecMG = [1.6738]"
   ]
  },
  {
   "cell_type": "code",
   "execution_count": null,
   "metadata": {},
   "outputs": [],
   "source": [
    "# Ann-Kathrin\n",
    "nprocAK = [100, 20, 250, 200, 5]\n",
    "tsecAK = [1.8740, 3.3820, 1.5921, 1.6492, 8.6528]"
   ]
  },
  {
   "cell_type": "code",
   "execution_count": null,
   "metadata": {},
   "outputs": [],
   "source": [
    "# Elisa\n",
    "nprocEM = [1, 20, 100, 250]\n",
    "tsecEM = [64.0253, 3.2429, 1.9070, 1.6151]"
   ]
  },
  {
   "cell_type": "code",
   "execution_count": null,
   "metadata": {},
   "outputs": [],
   "source": [
    "# Convert to NumPy arrays\n",
    "nprocDW = np.array(nprocDW)\n",
    "tsecDW = np.array(tsecDW)\n",
    "nprocTH = np.array(nprocTH)\n",
    "tsecTH = np.array(tsecTH)\n",
    "nprocET = np.array(nprocET)\n",
    "tsecET = np.array(tsecET)\n",
    "nprocJH = np.array(nprocJH)\n",
    "tsecJH = np.array(tsecJH)\n",
    "nprocLP = np.array(nprocLP)\n",
    "tsecLP = np.array(tsecLP)\n",
    "nprocAH = np.array(nprocAH)\n",
    "tsecAH = np.array(tsecAH)\n",
    "nprocSL = np.array(nprocSL)\n",
    "tsecSL = np.array(tsecSL)\n",
    "nprocMG = np.array(nprocMG)\n",
    "tsecMG = np.array(tsecMG)\n",
    "nprocAK = np.array(nprocAK)\n",
    "tsecAK = np.array(tsecAK)\n",
    "nprocEM = np.array(nprocEM)\n",
    "tsecEM = np.array(tsecEM)\n",
    "\n",
    "# Plot data\n",
    "f, (ax1, ax2) = plt.subplots(1, 2)\n",
    "ax1.plot(nprocDW, tsecDW, 'o', label='Dave')\n",
    "ax1.plot(nprocTH, tsecTH, 'o', label='Taavi')\n",
    "ax1.plot(nprocET, tsecET, 'o', label='Emilia')\n",
    "ax1.plot(nprocJH, tsecJH, 'o', label='Jonna')\n",
    "ax1.plot(nprocLP, tsecLP, 'o', label='Lakshika')\n",
    "ax1.plot(nprocAH, tsecAH, 'o', label='Ana')\n",
    "ax1.plot(nprocSL, tsecSL, 'o', label='Sanni')\n",
    "ax1.plot(nprocMG, tsecMG, 'o', label='Mehrnoosh')\n",
    "ax1.plot(nprocAK, tsecAK, 'o', label='Ann-Kathrin')\n",
    "ax1.plot(nprocEM, tsecEM, 'o', label='Elisa')\n",
    "ax1.set_xlabel('Number of cores')\n",
    "ax1.set_ylabel('Calculation time [s]')\n",
    "ax1.set_title('Raw parallel performance')\n",
    "ax1.legend()\n",
    "\n",
    "# Find bounds for reference parallel performance line\n",
    "minx = min(nprocDW.min(), nprocTH.min(), nprocET.min(), nprocJH.min(), nprocLP.min(), nprocAH.min(), nprocSL.min(), nprocMG.min(), nprocAK.min(), nprocEM.min())\n",
    "miny = min(tsecDW.min(), tsecTH.min(), tsecET.min(), tsecJH.min(), tsecLP.min(), tsecAH.min(), tsecSL.min(), tsecMG.min(), tsecAK.min(), tsecEM.min())\n",
    "maxy = max(tsecDW.max(), tsecTH.max(), tsecET.max(), tsecJH.max(), tsecLP.max(), tsecAH.max(), tsecSL.max(), tsecMG.max(), tsecAK.max(), tsecEM.max())\n",
    "maxx = minx + (maxy - miny)\n",
    "ax2.plot([np.log2(minx), np.log2(maxx)], [np.log2(maxy), np.log2(miny)], 'k--', label='Perfect parallelization')\n",
    "\n",
    "ax2.plot(np.log2(nprocDW), np.log2(tsecDW), 'o', label='Dave')\n",
    "ax2.plot(np.log2(nprocTH), np.log2(tsecTH), 'o', label='Taavi')\n",
    "ax2.plot(np.log2(nprocET), np.log2(tsecET), 'o', label='Emilia')\n",
    "ax2.plot(np.log2(nprocJH), np.log2(tsecJH), 'o', label='Jonna')\n",
    "ax2.plot(np.log2(nprocLP), np.log2(tsecLP), 'o', label='Lakshika')\n",
    "ax2.plot(np.log2(nprocAH), np.log2(tsecAH), 'o', label='Ana')\n",
    "ax2.plot(np.log2(nprocSL), np.log2(tsecSL), 'o', label='Sanni')\n",
    "ax2.plot(np.log2(nprocMG), np.log2(tsecMG), 'o', label='Mehrnoosh')\n",
    "ax2.plot(np.log2(nprocAK), np.log2(tsecAK), 'o', label='Ann-Kathrin')\n",
    "ax2.plot(np.log2(nprocEM), np.log2(tsecEM), 'o', label='Elisa')\n",
    "\n",
    "#ax2.plot(np.log2(nprocDW), np.log2(tsecDW), 'o', label='User 1')\n",
    "#ax2.plot(np.log2(nprocLT), np.log2(tsecLT), 'o', label='User 2')\n",
    "#ax2.plot(np.log2(nprocLC), np.log2(tsecLC), 'o', label='User 3')\n",
    "#ax2.plot(np.log2(nprocTV), np.log2(tsecTV), 'o', label='User 4')\n",
    "#ax2.plot(np.log2(nprocTL), np.log2(tsecTL), 'o', label='User 5')\n",
    "#ax2.plot(np.log2(nprocYW), np.log2(tsecYW), 'o', label='User 6')\n",
    "\n",
    "ax2.axis('equal')\n",
    "ax2.set_xlabel('log$_{2}$(Number of cores)')\n",
    "ax2.set_ylabel('log$_{2}$(Calculation time) [s]')\n",
    "ax2.set_title('Log$_{2}$ parallel performance')\n",
    "ax2.legend()"
   ]
  },
  {
   "cell_type": "markdown",
   "metadata": {},
   "source": [
    "## Data from 2020"
   ]
  },
  {
   "cell_type": "code",
   "execution_count": null,
   "metadata": {},
   "outputs": [],
   "source": [
    "# Dave\n",
    "nprocDW = [64, 64, 320]\n",
    "tsecDW = [2.2847, 1.5821, 1.0517]"
   ]
  },
  {
   "cell_type": "code",
   "execution_count": null,
   "metadata": {},
   "outputs": [],
   "source": [
    "# Leevi\n",
    "nprocLT = [2, 8, 16, 64, 256]\n",
    "tsecLT = [19.96, 6.23, 3.52, 2.26, 1.15]"
   ]
  },
  {
   "cell_type": "code",
   "execution_count": null,
   "metadata": {},
   "outputs": [],
   "source": [
    "# Letizia\n",
    "nprocLC = [2, 8, 16, 32, 64, 256]\n",
    "tsecLC = [22.8416, 6.2493, 3.3238, 4.0696, 2.3058, 1.1402]"
   ]
  },
  {
   "cell_type": "code",
   "execution_count": null,
   "metadata": {},
   "outputs": [],
   "source": [
    "# Tommi\n",
    "nprocTV = [ 1, 2, 4, 16, 32, 64, 256 ]\n",
    "tsecTV = [ 43.4103989601, 23.3102600574, 11.0595788956, 3.5252571106, 4.08421611786, 2.28794884682, 1.16591596603 ]"
   ]
  },
  {
   "cell_type": "code",
   "execution_count": null,
   "metadata": {},
   "outputs": [],
   "source": [
    "# Tuija\n",
    "nprocTL = [2, 8, 16, 32, 128] \n",
    "tsecTL = [19.8880, 6.5444, 3.4134, 4.2096, 1.3018]"
   ]
  },
  {
   "cell_type": "code",
   "execution_count": null,
   "metadata": {},
   "outputs": [],
   "source": [
    "# Yijun\n",
    "nprocYW = [16,32,64,128,256]\n",
    "tsecYW = [3.3989,4.2119,1.5718,1.3543,1.1443]"
   ]
  },
  {
   "cell_type": "code",
   "execution_count": null,
   "metadata": {
    "tags": [
     "raises-exception"
    ]
   },
   "outputs": [],
   "source": [
    "# Convert to NumPy arrays\n",
    "nprocDW = np.array(nprocDW)\n",
    "tsecDW = np.array(tsecDW)\n",
    "nprocLT = np.array(nprocLT)\n",
    "tsecLT = np.array(tsecLT)\n",
    "nprocLC = np.array(nprocLC)\n",
    "tsecLC = np.array(tsecLC)\n",
    "nprocTV = np.array(nprocTV)\n",
    "tsecTV = np.array(tsecTV)\n",
    "nprocTL = np.array(nprocTL)\n",
    "tsecTL = np.array(tsecTL)\n",
    "nprocYW = np.array(nprocYW)\n",
    "tsecYW = np.array(tsecYW)\n",
    "\n",
    "# Plot data\n",
    "f, (ax1, ax2) = plt.subplots(1, 2)\n",
    "ax1.plot(nprocDW, tsecDW, 'o', label='User 1')\n",
    "ax1.plot(nprocLT, tsecLT, 'o', label='User 2')\n",
    "ax1.plot(nprocLC, tsecLC, 'o', label='User 3')\n",
    "ax1.plot(nprocTV, tsecTV, 'o', label='User 4')\n",
    "ax1.plot(nprocTL, tsecTL, 'o', label='User 5')\n",
    "ax1.plot(nprocYW, tsecYW, 'o', label='User 6')\n",
    "ax1.set_xlabel('Number of cores')\n",
    "ax1.set_ylabel('Calculation time [s]')\n",
    "ax1.set_title('Raw parallel performance')\n",
    "ax1.legend()\n",
    "\n",
    "# Find bounds for reference parallel performance line\n",
    "minx = min(nprocDW.min(), nprocLT.min(), nprocLC.min(), nprocTV.min(), nprocTL.min(), nprocYW.min())\n",
    "miny = min(tsecDW.min(), tsecLT.min(), tsecLC.min(), tsecTV.min(), tsecTL.min(), tsecYW.min())\n",
    "maxy = max(tsecDW.max(), tsecLT.max(), tsecLC.max(), tsecTV.max(), tsecTL.max(), tsecYW.max())\n",
    "maxx = minx + (maxy - miny)\n",
    "ax2.plot([np.log2(minx), np.log2(maxx)], [np.log2(maxy), np.log2(miny)], 'k--', label='Perfect parallelization')\n",
    "\n",
    "ax2.plot(np.log2(nprocDW), np.log2(tsecDW), 'o', label='User 1')\n",
    "ax2.plot(np.log2(nprocLT), np.log2(tsecLT), 'o', label='User 2')\n",
    "ax2.plot(np.log2(nprocLC), np.log2(tsecLC), 'o', label='User 3')\n",
    "ax2.plot(np.log2(nprocTV), np.log2(tsecTV), 'o', label='User 4')\n",
    "ax2.plot(np.log2(nprocTL), np.log2(tsecTL), 'o', label='User 5')\n",
    "ax2.plot(np.log2(nprocYW), np.log2(tsecYW), 'o', label='User 6')\n",
    "\n",
    "ax2.axis('equal')\n",
    "ax2.set_xlabel('log$_{2}$(Number of cores)')\n",
    "ax2.set_ylabel('log$_{2}$(Calculation time) [s]')\n",
    "ax2.set_title('Log$_{2}$ parallel performance')\n",
    "ax2.legend()"
   ]
  }
 ],
 "metadata": {
  "celltoolbar": "Tags",
  "kernelspec": {
   "display_name": "Python 3 (ipykernel)",
   "language": "python",
   "name": "python3"
  },
  "language_info": {
   "codemirror_mode": {
    "name": "ipython",
    "version": 3
   },
   "file_extension": ".py",
   "mimetype": "text/x-python",
   "name": "python",
   "nbconvert_exporter": "python",
   "pygments_lexer": "ipython3",
   "version": "3.11.6"
  }
 },
 "nbformat": 4,
 "nbformat_minor": 4
}
