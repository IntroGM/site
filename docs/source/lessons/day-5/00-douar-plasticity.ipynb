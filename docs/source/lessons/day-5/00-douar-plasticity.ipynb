{
 "cells": [
  {
   "cell_type": "markdown",
   "id": "f9fc3b71-279b-456c-b7d2-ae4ed86bf420",
   "metadata": {},
   "source": [
    "# DOUAR notes\n",
    "\n",
    "## Plasticity in DOUAR\n",
    "\n",
    "DOUAR solves for Stokes flow, which means all materials need to have a viscosity. Thus, in order to have frictional plastic behavior of a material, the material needs a viscosity that makes it behave as if it was on plastic yield.\n",
    "\n",
    "### Viscosity of a plastic element\n",
    "\n",
    "Perfectly plastic materials undergo no deformation at stresses below their yield stress $\\sigma_{\\mathrm{y}}$, but and experience infinite deformation once the yield stress is reached. To simulate plastic behavior in a viscous fluid, the code must identify elements that are at the plastic yield stress and then find a viscosity that will ensure the stress in the element is equal to the yield stress.\n",
    "\n",
    "In DOUAR, the elemental stress is calculated as\n",
    "\n",
    "\\begin{equation}\n",
    "  \\sigma = 2 \\eta_{\\mathrm{mat}} \\dot{\\varepsilon}\n",
    "\\end{equation}\n",
    "\n",
    "where $\\eta_{\\mathrm{mat}}$ is the assigned material viscosity and $\\dot{\\varepsilon}$ is the strain rate in the element. In cases where the calculated elemental stress is below the yield stress, the assigned viscosity in the element will be used as the viscosity for that velocity iteration. In cases where the calculated stress exceeds exceeds the yield stress for the material, the viscosity must be recalculated such that the stress in the element is equal to the yield stress. This is done by solving for the effective viscosity $\\eta_{\\mathrm{eff}}$ that would satisfy this condition:\n",
    "\n",
    "\\begin{equation}\n",
    "  \\eta_{\\mathrm{eff}} = \\frac{\\sigma_{\\mathrm{y}}}{2 \\dot{\\varepsilon}}\n",
    "\\end{equation}\n",
    "\n",
    "So, to summarize mathematically, we can say the viscosity $\\eta$ used for an element with plasticity will be\n",
    "\n",
    "\\begin{cases}\n",
    "  \\eta = \\eta_{\\mathrm{eff}},& \\text{if } \\sigma \\ge \\sigma_{\\mathrm{y}} \\newline\n",
    "  \\eta = \\eta_{\\mathrm{mat}},& \\text{otherwise}\n",
    "\\end{cases}"
   ]
  }
 ],
 "metadata": {
  "kernelspec": {
   "display_name": "Python 3 (ipykernel)",
   "language": "python",
   "name": "python3"
  },
  "language_info": {
   "codemirror_mode": {
    "name": "ipython",
    "version": 3
   },
   "file_extension": ".py",
   "mimetype": "text/x-python",
   "name": "python",
   "nbconvert_exporter": "python",
   "pygments_lexer": "ipython3",
   "version": "3.10.4"
  }
 },
 "nbformat": 4,
 "nbformat_minor": 5
}
