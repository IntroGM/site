{
 "cells": [
  {
   "cell_type": "markdown",
   "id": "485060b8-1f16-4f0b-9857-f03ef5e8b7c8",
   "metadata": {
    "editable": true,
    "slideshow": {
     "slide_type": ""
    },
    "tags": []
   },
   "source": [
    "# Python resources\n",
    "\n",
    "We will attempt to provide all necessary resources to complete this course, but we do have some recommendations for supplementary materials that you may find helpful.\n",
    "These come from the [Geo-Python course website](https://geo-python.github.io).\n",
    "\n",
    "## Geo-Python resources\n",
    "\n",
    "- [Geo-Python course](https://geo-python.github.io)\n",
    "- [Introduction to Quantitative Geology course](https://introqg.github.io)\n",
    "- [Resources for learning Python](https://geo-python-site.readthedocs.io/en/latest/course-info/resources.html)\n",
    "- [Definitions for common Python terms](https://geo-python-site.readthedocs.io/en/latest/course-info/python-vocabulary.html)\n",
    "- [Installing Python](https://geo-python-site.readthedocs.io/en/latest/course-info/installing-miniconda.html)\n",
    "\n",
    "## IntroGM Python environment files\n",
    "\n",
    "- [Python environment files for IntroGM students/teachers](https://github.com/IntroGM/python-environments)\n",
    "\n",
    "## Other useful sites\n",
    "\n",
    "You may benefit from studying the following web resources:\n",
    "\n",
    "- [Codecademy Python course](https://www.codecademy.com/learn/learn-python)\n",
    "- [Interactive Python tutorial](https://www.learnpython.org/)"
   ]
  }
 ],
 "metadata": {
  "kernelspec": {
   "display_name": "Python 3 (ipykernel)",
   "language": "python",
   "name": "python3"
  },
  "language_info": {
   "codemirror_mode": {
    "name": "ipython",
    "version": 3
   },
   "file_extension": ".py",
   "mimetype": "text/x-python",
   "name": "python",
   "nbconvert_exporter": "python",
   "pygments_lexer": "ipython3",
   "version": "3.11.6"
  }
 },
 "nbformat": 4,
 "nbformat_minor": 5
}
