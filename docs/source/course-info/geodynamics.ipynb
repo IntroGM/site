{
 "cells": [
  {
   "cell_type": "markdown",
   "id": "46627e94-0455-4ebc-ab4e-0818dfa8ce33",
   "metadata": {},
   "source": [
    "# Geodynamics resources\n",
    "\n",
    "Below are a few links that may help supplement materials available on this course page.\n",
    "\n",
    "## Articles\n",
    "\n",
    "- [Braun, J., Thieulot, C., Fullsack, P., DeKool, M., Beaumont, C., & Huismans, R. (2008). DOUAR: A new three-dimensional creeping flow numerical model for the solution of geological problems. Physics of the Earth and Planetary Interiors, 171(1-4), 76-91.](https://doi-org.libproxy.helsinki.fi/10.1016/j.pepi.2008.05.003)\n",
    "- [Van Zelst, I., Crameri, F., Pusok, A. E., Glerum, A., Dannberg, J., & Thieulot, C. (2022). 101 geodynamic modelling: how to design, interpret, and communicate numerical studies of the solid Earth. Solid Earth, 13(3), 583-637.](https://doi.org/10.5194/se-13-583-2022)\n",
    "\n",
    "## Web resources\n",
    "\n",
    "- [Geodynamics video lectures on YouTube](https://www.youtube.com/channel/UCsSTyHHQVvnGdnKbidSj94A/playlists)"
   ]
  }
 ],
 "metadata": {
  "kernelspec": {
   "display_name": "Python 3 (ipykernel)",
   "language": "python",
   "name": "python3"
  },
  "language_info": {
   "codemirror_mode": {
    "name": "ipython",
    "version": 3
   },
   "file_extension": ".py",
   "mimetype": "text/x-python",
   "name": "python",
   "nbconvert_exporter": "python",
   "pygments_lexer": "ipython3",
   "version": "3.10.4"
  }
 },
 "nbformat": 4,
 "nbformat_minor": 5
}
