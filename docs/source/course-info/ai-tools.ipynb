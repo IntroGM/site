{
 "cells": [
  {
   "cell_type": "markdown",
   "id": "e951ef7d-f5c6-493e-91dd-ccbd255084d7",
   "metadata": {},
   "source": [
    "# Use of AI tools\n",
    "\n",
    "Artificial intelligence (AI)-based tools using large language models (AI-LLMs), such as ChatGPT, Google Bard, or DeepL, are changing the ways in which people produce content including software.\n",
    "Although these tools have great potential to expedite many coding tasks, it is important to note that one must understand the code that is produced in order to ensure it functions properly.\n",
    "As the goal of the Introduction to Geodynamic Modelling course is to learn the fundamentals of modelling geodynamic processes, we (the teachers) must be careful to ensure the use of AI tools does not compromise the learning goals of the course.\n",
    "Thus, we provide some guidelines for the use of AI tools below.\n",
    "\n",
    "## Guidelines for AI-LLM use in the IntroGM course\n",
    "\n",
    "```{note}\n",
    "Please note these guidelines apply only to students enrolled in the Introduction to Geodynamic Modelling course for credit.\n",
    "```\n",
    "\n",
    "1. Unless stated otherwise, AI-LLMs should not be used to generate code or answer questions in the course exercises.\n",
    "2. Exercise problems or parts of problems where AI-LLM use is OK will be clearly indicated in the exercise assignment by the text \"**AI-LLM OK**\".\n",
    "3. For problems or parts of problems where AI-LLM use is OK, students must indicate in writing which AI tool/model has been used and in what way.\n",
    "4. If a student uses an AI-LLM for part of an exercise where it is prohibited or fails to report the use of an AI-LLM as instructed, this will be considered cheating and will be handled as such.\n",
    "\n",
    "The guidelines above are based on the [University of Helsinki guidelines for the use of AI in teaching](https://teaching.helsinki.fi/system/files/inline-files/AI_in_teaching_guidelines_University%20of%20Helsinki_0.pdf).\n",
    "More information is available in the [instructions for students](https://studies.helsinki.fi/instructions/article/using-ai-support-learning).\n",
    "\n",
    "## An introduction to AI-LLMs\n",
    "\n",
    "Prior to the first opportunity in which the use of AI-LLMs is possible for the course exercises, we will provide a brief introduction to how to use ChatGPT to produce Python code.\n",
    "In this demonstration we will highlight some of the advantages and disadvantages to the code ChatGPT produces, as well as how to review the code to ensure it works properly.\n",
    "\n",
    "```{note}\n",
    "Please note that we are adjusting to a changing environment as far as the AI-LLMs go, so we will do our best to encourage use where it makes sense.\n",
    "At the same time, we do not want to negatively impact your learning of core programming concepts.\n",
    "```"
   ]
  }
 ],
 "metadata": {
  "kernelspec": {
   "display_name": "Python 3 (ipykernel)",
   "language": "python",
   "name": "python3"
  },
  "language_info": {
   "codemirror_mode": {
    "name": "ipython",
    "version": 3
   },
   "file_extension": ".py",
   "mimetype": "text/x-python",
   "name": "python",
   "nbconvert_exporter": "python",
   "pygments_lexer": "ipython3",
   "version": "3.11.6"
  }
 },
 "nbformat": 4,
 "nbformat_minor": 5
}
