{
 "cells": [
  {
   "cell_type": "markdown",
   "id": "395e3417-b86a-4a02-9799-535dd2db198a",
   "metadata": {
    "tags": []
   },
   "source": [
    "# License and terms of usage\n",
    "\n",
    "We hope that the materials provided here would be helpful for others.\n",
    "Thus, we share all the lesson materials openly, and also our source codes and lesson materials are openly available [from GitHub](https://github.com/IntroGM/site).\n",
    "There, you can also find information how to use the materials and modify them to your own purposes.\n",
    "**However**, if you modify the lesson materials we wish that you would also share your materials openly e.g., on GitHub, where everyone could benefit from your work in a similar manner as we provide these materials for you.\n",
    "We also welcome collaboration and ideas of how to improve the materials on these pages.\n",
    "Contact us via email ({doc}`general-info`) or fork the docs on **GitHub**.\n",
    "\n",
    "**Our materials and code snippets are licensed** as explained below:\n",
    "\n",
    "## Instructional materials\n",
    "\n",
    "All the instructional material is made available under the **Creative Commons Attribution-ShareAlike 4.0 International licence** .\n",
    "See the [full licence](https://creativecommons.org/licenses/by-sa/4.0/legalcode).\n",
    "\n",
    "In short as a human-readable version of the license:\n",
    "\n",
    "### You are free to\n",
    "\n",
    "- **Share** - copy and redistribute the material in any medium or format\n",
    "- **Adapt** - remix, transform, and build upon the material\n",
    "\n",
    "for any purpose, even commercially.\n",
    "The licensor cannot revoke these freedoms as long as you follow the license terms.\n",
    "\n",
    "### Under the following terms\n",
    "\n",
    "- **Attribution** - You must give appropriate-credit[^credit], provide a link to the license, and indicate[^indicate] if changes were made. You may do so in any reasonable manner, but not in any way that suggests the licensor endorses you or your use.\n",
    "- **ShareAlike** - If you remix, transform, or build upon the material, you must distribute your contributions under the same-license[^same] as the original.\n",
    "\n",
    "**No additional restrictions** — You may not apply legal terms or technological-measures[^measures] that legally restrict others from doing anything the license permits.\n",
    "\n",
    "### Notices\n",
    "\n",
    "You do not have to comply with the license for elements of the material in the public domain or where your use is permitted by an applicable exception[^exception] or **limitation**.\n",
    "\n",
    "No warranties are given. The license may not give you all of the permissions necessary for your intended use. For example, other rights such as publicity[^publicity], privacy,\n",
    "or moral rights may limit how you use the material.\n",
    "\n",
    "## Code snippets / software\n",
    "\n",
    "Except where otherwise noted, the example programs, code snippets and other software provided by the Introduction to Geodynamic Modelling course are made available under the **GNU GPLv3 license**. \n",
    "Please refer to the [full license](https://www.gnu.org/licenses/gpl.html) for details.\n",
    "\n",
    "[^myref]: **Appropriate credit**: If supplied, you must provide the name of the creator and attribution parties, a copyright notice, a license notice, a disclaimer notice, and a link to the material. CC licenses prior to Version 4.0 also require you to provide the title of the material if supplied, and may have other slight differences.\n",
    "\n",
    "[^indicate]: **Indicate changes**: In 4.0, you must indicate if you modified the material and retain an indication of previous modifications. In 3.0 and earlier license versions, the indication of changes is only required if you create a derivative.\n",
    "\n",
    "[^same]: **Same license**: You may also use a license listed as compatible at `https://creativecommons.org/compatiblelicenses <https://creativecommons.org/compatiblelicenses>`_.\n",
    "\n",
    "[^measures]: **Technological measures**: The license prohibits application of effective technological measures, defined with reference to Article 11 of the WIPO Copyright Treaty.\n",
    "\n",
    "[^exception]: **Exception or limitation**: The rights of users under exceptions and limitations, such as fair use and fair dealing, are not affected by the CC licenses.**\n",
    "\n",
    "[^publicity]: **Publicity, privacy, or moral rights**: You may need to get additional permissions before using the material as you intend."
   ]
  }
 ],
 "metadata": {
  "kernelspec": {
   "display_name": "Python 3 (ipykernel)",
   "language": "python",
   "name": "python3"
  },
  "language_info": {
   "codemirror_mode": {
    "name": "ipython",
    "version": 3
   },
   "file_extension": ".py",
   "mimetype": "text/x-python",
   "name": "python",
   "nbconvert_exporter": "python",
   "pygments_lexer": "ipython3",
   "version": "3.10.4"
  }
 },
 "nbformat": 4,
 "nbformat_minor": 5
}
