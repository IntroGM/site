{
 "cells": [
  {
   "cell_type": "markdown",
   "id": "48e07c2d-6069-4f7b-bf87-9adfcb126cf5",
   "metadata": {
    "editable": true,
    "slideshow": {
     "slide_type": ""
    },
    "tags": []
   },
   "source": [
    "# Software\n",
    "\n",
    "Below are some suggestions of software that could be installed to aid in working through the course materials. Please note that all instructions for installing Python can be found on the {doc}`resources` page.\n",
    "\n",
    "## Windows\n",
    "\n",
    "- [PuTTY](https://www.putty.org/) (for connecting and using geo-hpcc)\n",
    "- [WinSCP](https://winscp.net/eng/index.php) (for copying files from geo-hpcc)\n",
    "- [Visual Studio Code](https://code.visualstudio.com/) (for editing model input files)\n",
    "- [ParaView](https://www.paraview.org/download/) (for data visualization)\n",
    "\n",
    "## Mac/Linux\n",
    "\n",
    "- [Visual Studio Code](https://code.visualstudio.com/) (for editing model input files)\n",
    "- [ParaView](https://www.paraview.org/download/) (for data visualization)"
   ]
  }
 ],
 "metadata": {
  "kernelspec": {
   "display_name": "Python 3 (ipykernel)",
   "language": "python",
   "name": "python3"
  },
  "language_info": {
   "codemirror_mode": {
    "name": "ipython",
    "version": 3
   },
   "file_extension": ".py",
   "mimetype": "text/x-python",
   "name": "python",
   "nbconvert_exporter": "python",
   "pygments_lexer": "ipython3",
   "version": "3.11.6"
  }
 },
 "nbformat": 4,
 "nbformat_minor": 5
}
