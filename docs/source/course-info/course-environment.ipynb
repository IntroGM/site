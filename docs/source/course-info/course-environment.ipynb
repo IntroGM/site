{
 "cells": [
  {
   "cell_type": "markdown",
   "id": "97f85425-95d1-4df3-8071-4e5840ce259e",
   "metadata": {},
   "source": [
    "# Course environment\n",
    "\n",
    "The environment for this course is similar to that of the [Geo-Python](https://geo-python.github.io) and [Introduction to Quantitative Geology](https://introqg.github.io) courses you may have already taken.\n",
    "Thus we present here only details that are relevant for this course in the points below.\n",
    "For all other items, we suggest you check the description of the [Geo-Python course environment](https://geo-python-site.readthedocs.io/en/latest/lessons/L1/course-environment-components.html).\n",
    "\n",
    "## Cloud computing environment\n",
    "\n",
    "We will use a cloud-based computing environment (CSC Notebooks) to access interactive online version of the lessons and to work on the course exercises. You can use the cloud computing environment with any computer as long as it has a reasonably fast internet connection and a web browser.\n",
    "\n",
    "Please note that only files stored in the `my-work` folder in the CSC Notebooks will be preserved on that platform. Thus you should always remember to push your changes to GitHub!\n",
    "\n",
    "### CSC Notebooks\n",
    "\n",
    "Notebooks by CSC (https://notebooks.csc.fi) is a computing environment hosted by the Finnish IT Center for Science (CSC). The CSC Notebooks platform is used for running Jupyter Notebooks in a customized environment.\n",
    "CSC Notebooks is available only for students who are affiliated with Finnish universities and research institutes (via the Haka user authentication system).\n",
    "\n",
    "```{note}\n",
    "**When using the CSC Notebooks for the first time, you need to join the group created for this course:**\n",
    "\n",
    "1. Log in at https://notebooks.csc.fi/\n",
    "2. Select Haka for the authentication provider\n",
    "3. Enter your Finnish university login credentials\n",
    "4. Click on the **Join workspace** button on the top left\n",
    "5. Join the Introduction to Geodynamic Modelling 2024 workspace using the join code `int-bf4jgiu6`\n",
    "\n",
    "After joining the group, you should be able to view the course environments called **Introduction to Geodynamic Modelling 2024** near the top of the Application list.\n",
    "```\n",
    "\n",
    "You can find more detailed instructions about how to join a CSC Notebooks workspace on the [Geo-Python course website](https://geo-python-site.readthedocs.io/en/latest/lessons/L1/course-environment-components.html#csc-notebooks).\n",
    "\n",
    "```{note}\n",
    "**To access the notebooks for the lessons or exercises in this course:**\n",
    "\n",
    "1. Create your personal copy of the lesson/exercise from the {doc}`github-classroom` page.\n",
    "2. Double-click on the `my-work` folder in the file navigator on the left side of the Jupyter Lab window\n",
    "2. Click on the Git icon on the left side\n",
    "3. Click on the **Clone a Repository** button\n",
    "4. Enter the address address of your copy of the lesson/exercise (which can be found on the webpage for your copy of the repository on GitHub) and click **Clone**\n",
    "5. You can now access the lesson/exercise in the `my-work/` folder\n",
    "```\n",
    "\n",
    "**Remember to save your work!**\n",
    "\n",
    "## Using your own computer\n",
    "\n",
    "We recommend that everyone use the CSC Notebooks during this course.\n",
    "In case you want to work on your own computer, you will need to [install Python](https://geo-python-site.readthedocs.io/en/latest/course-info/installing-miniconda.html) and use the [Python environment files for this course](https://github.com/IntroGM/python-environments)."
   ]
  }
 ],
 "metadata": {
  "kernelspec": {
   "display_name": "Python 3 (ipykernel)",
   "language": "python",
   "name": "python3"
  },
  "language_info": {
   "codemirror_mode": {
    "name": "ipython",
    "version": 3
   },
   "file_extension": ".py",
   "mimetype": "text/x-python",
   "name": "python",
   "nbconvert_exporter": "python",
   "pygments_lexer": "ipython3",
   "version": "3.11.6"
  }
 },
 "nbformat": 4,
 "nbformat_minor": 5
}
