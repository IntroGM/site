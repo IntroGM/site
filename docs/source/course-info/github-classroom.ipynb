{
 "cells": [
  {
   "cell_type": "markdown",
   "id": "50826f23-c062-4366-bada-a36352e5b184",
   "metadata": {
    "editable": true,
    "slideshow": {
     "slide_type": ""
    },
    "tags": []
   },
   "source": [
    "# Exercise notebooks in GitHub Classroom\n",
    "\n",
    "Below are links to create your own copies of the daily notebooks for completing the lessons and exercises in the course. Clicking the link will allow you to make your personal copy on [GitHub.com](https://www.github.com) using GitHub Classroom. More information about GitHub Classroom can be found on the [Geo-Python course website](https://geo-python-site.readthedocs.io/en/latest/lessons/L2/GitHub-classroom.html).\n",
    "\n",
    "You can find instructions about how to work with your personal copy of the course lessons and/or exercises on the {doc}`course-environment` page.\n",
    "\n",
    "For those taking the course for credit, the final version of your exercises should be submitted via GitHub Classroom **no later than June 7th, 2024**.\n",
    "\n",
    "```{note}\n",
    "You will need an account on [GitHub.com](https://www.github.com) to use GitHub Classroom.\n",
    "```\n",
    "\n",
    "```{warning}\n",
    "Please note that we provide assignment feedback only for students enrolled in the course at the University of Helsinki.\n",
    "```\n",
    "\n",
    "## Day 1 notebooks\n",
    "\n",
    "- [Create your copy using GitHub Classroom](https://classroom.github.com/a/RO465Pv2)\n",
    "- [View the public version of the notebooks](https://github.com/IntroGM-2024/day-1-notebooks)\n",
    "\n",
    "## Day 2 exercises\n",
    "\n",
    "- [Create your copy using GitHub Classroom](https://classroom.github.com/a/aUHY_F9Y)\n",
    "- [View the public version of the notebooks](https://github.com/IntroGM-2024/day-2-exercises)\n",
    "\n",
    "## Day 3 exercises\n",
    "\n",
    "- [Create your copy using GitHub Classroom](https://classroom.github.com/a/Oo8LXMXk)\n",
    "- [View the public version of the notebooks](https://github.com/IntroGM-2024/day-3-exercises)\n"
   ]
  }
 ],
 "metadata": {
  "kernelspec": {
   "display_name": "Python 3 (ipykernel)",
   "language": "python",
   "name": "python3"
  },
  "language_info": {
   "codemirror_mode": {
    "name": "ipython",
    "version": 3
   },
   "file_extension": ".py",
   "mimetype": "text/x-python",
   "name": "python",
   "nbconvert_exporter": "python",
   "pygments_lexer": "ipython3",
   "version": "3.11.6"
  }
 },
 "nbformat": 4,
 "nbformat_minor": 5
}
