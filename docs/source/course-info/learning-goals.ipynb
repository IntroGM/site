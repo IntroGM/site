{
 "cells": [
  {
   "cell_type": "markdown",
   "id": "b21336ae-63ed-4e4e-a925-08ef9b9acfed",
   "metadata": {},
   "source": [
    "# Learning goals\n",
    "\n",
    "At the end of this course, students will be able to:\n",
    "\n",
    "- Solve partial differential equations using the finite-difference method\n",
    "- Differentiate between and implement various boundary and initial conditions in numerical geodynamic models\n",
    "- Create their own 1D geodynamic models and know how to use modern 3D numerical geodynamic modelling software to simulate common physical processes in the Earth (heat transfer, rock deformation, etc.)"
   ]
  }
 ],
 "metadata": {
  "kernelspec": {
   "display_name": "Python 3 (ipykernel)",
   "language": "python",
   "name": "python3"
  },
  "language_info": {
   "codemirror_mode": {
    "name": "ipython",
    "version": 3
   },
   "file_extension": ".py",
   "mimetype": "text/x-python",
   "name": "python",
   "nbconvert_exporter": "python",
   "pygments_lexer": "ipython3",
   "version": "3.10.4"
  }
 },
 "nbformat": 4,
 "nbformat_minor": 5
}
