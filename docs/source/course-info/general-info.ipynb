{
 "cells": [
  {
   "cell_type": "markdown",
   "id": "f626e948-c448-496c-94d7-e010d90e5fb4",
   "metadata": {
    "editable": true,
    "slideshow": {
     "slide_type": ""
    },
    "tags": []
   },
   "source": [
    "# General info\n",
    "\n",
    "## Course meetings\n",
    "\n",
    "- 9:15-15:45 on May 20-24 in C222, Exactum\n",
    "\n",
    "Attendance is mandatory and any absences must be cleared by the instructor prior to the start of class that day.\n",
    "\n",
    "## Instructors\n",
    "\n",
    "David Whipp\n",
    "\n",
    "- Office: D426, Exactum\n",
    "- Email: *firstname.lastname@helsinki.fi*\n",
    "\n",
    "Leevi Tuikka\n",
    "\n",
    "- Office: C426, Exactum\n",
    "- Email: *firstname.lastname@helsinki.fi*\n",
    "\n",
    "## Course website\n",
    "\n",
    "[https://introgm.github.io](https://introgm.github.io)\n",
    "\n",
    "## Course completion methods\n",
    "\n",
    "- Computer programming exercises\n",
    "- Attendance of at least 80% of course lectures/exercises\n",
    "- Optional research project/paper\n",
    "\n",
    "## Suggested background studies\n",
    "\n",
    "Students taking this course should have\n",
    "\n",
    "- Basic knowledge of geodynamic processes in the lithosphere (stress and strain, elasticity, viscous flow, plasticity, heat transfer, etc.)\n",
    "- Familiarity with basic computer programming concepts (loops, conditional statements, etc.)\n",
    "- General understanding of calculus (derivatives, integrals, etc.)\n",
    "\n",
    "You will also benefit from having at least basic knowledge of programming in Python."
   ]
  }
 ],
 "metadata": {
  "kernelspec": {
   "display_name": "Python 3 (ipykernel)",
   "language": "python",
   "name": "python3"
  },
  "language_info": {
   "codemirror_mode": {
    "name": "ipython",
    "version": 3
   },
   "file_extension": ".py",
   "mimetype": "text/x-python",
   "name": "python",
   "nbconvert_exporter": "python",
   "pygments_lexer": "ipython3",
   "version": "3.11.6"
  }
 },
 "nbformat": 4,
 "nbformat_minor": 5
}
