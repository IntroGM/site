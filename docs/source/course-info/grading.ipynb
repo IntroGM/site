{
 "cells": [
  {
   "cell_type": "markdown",
   "id": "b997b970-4cfe-4ca7-9cea-e7381a9dba84",
   "metadata": {},
   "source": [
    "# Grading\n",
    "\n",
    "## General grading breakdown\n",
    "\n",
    "Grades in this course a based on a pass/fail system.\n",
    "\n",
    "- By attending each day of the course and participating in the exercises you will pass the course and receive 3 ECTS credits.\n",
    "- It is possible to receive an additional 2 ECTS credits by completing a project-based assignment following completion of the course lectures.\n",
    "The course project will be described in more detail later in the course, but the general idea is to design a geodynamic model, run several numerical experiments with your model, and write a short paper describing the model and your results in the format of a scientic journal article."
   ]
  }
 ],
 "metadata": {
  "kernelspec": {
   "display_name": "Python 3 (ipykernel)",
   "language": "python",
   "name": "python3"
  },
  "language_info": {
   "codemirror_mode": {
    "name": "ipython",
    "version": 3
   },
   "file_extension": ".py",
   "mimetype": "text/x-python",
   "name": "python",
   "nbconvert_exporter": "python",
   "pygments_lexer": "ipython3",
   "version": "3.10.4"
  }
 },
 "nbformat": 4,
 "nbformat_minor": 5
}
