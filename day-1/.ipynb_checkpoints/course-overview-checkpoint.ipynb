{
 "cells": [
  {
   "cell_type": "markdown",
   "metadata": {
    "slideshow": {
     "slide_type": "slide"
    }
   },
   "source": [
    "# Course overview\n",
    "\n",
    "David Whipp\n",
    "\n",
    "25-29 May 2020"
   ]
  },
  {
   "cell_type": "markdown",
   "metadata": {
    "slideshow": {
     "slide_type": "slide"
    }
   },
   "source": [
    "## Let's get to know one another"
   ]
  },
  {
   "cell_type": "markdown",
   "metadata": {
    "slideshow": {
     "slide_type": "subslide"
    }
   },
   "source": [
    "### Who am I?\n",
    "\n",
    "- Dave Whipp, Associate professor\n",
    "    - Geodynamics of convergent orogens\n",
    "    - Geomorphology\n",
    "    - High-performance computing"
   ]
  },
  {
   "cell_type": "markdown",
   "metadata": {
    "slideshow": {
     "slide_type": "subslide"
    }
   },
   "source": [
    "### Who are you?\n",
    "\n",
    "- Name\n",
    "- Home university / study program\n",
    "- Degree pursued (Ph.D., MSc, etc.)\n",
    "- Thesis topic"
   ]
  },
  {
   "cell_type": "markdown",
   "metadata": {
    "slideshow": {
     "slide_type": "slide"
    }
   },
   "source": [
    "## Practical matters"
   ]
  },
  {
   "cell_type": "markdown",
   "metadata": {
    "slideshow": {
     "slide_type": "subslide"
    }
   },
   "source": [
    "### Daily schedule\n",
    "\n",
    "- 9-12: Online meeting in Zoom\n",
    "- 12-15: Free working time for exercises\n",
    "- ~15-16: Online meeting in Zoom"
   ]
  },
  {
   "cell_type": "markdown",
   "metadata": {
    "slideshow": {
     "slide_type": "slide"
    }
   },
   "source": [
    "## Computer stuff and course website"
   ]
  },
  {
   "cell_type": "markdown",
   "metadata": {
    "slideshow": {
     "slide_type": "subslide"
    }
   },
   "source": [
    "### Software\n",
    "\n",
    "- All software used in this course is freely available\n",
    "- A list of software available for download is provided on the course website (next slide)"
   ]
  },
  {
   "cell_type": "markdown",
   "metadata": {
    "slideshow": {
     "slide_type": "subslide"
    }
   },
   "source": [
    "### Course website\n",
    "\n",
    "- All course materials will be posted to the course website: [https://introgm.github.io](https://introgm.github.io)\n",
    "    - This page will provide links to lecture slides, scripts used for the course, and other materials\n",
    "    - We will be updating the page as we go.\n",
    "- The materials are freely available for use by anyone, subject to the license, so feel free to share with your friends/colleagues!"
   ]
  },
  {
   "cell_type": "markdown",
   "metadata": {
    "slideshow": {
     "slide_type": "slide"
    }
   },
   "source": [
    "## Course goals and learning objectives"
   ]
  },
  {
   "cell_type": "markdown",
   "metadata": {
    "slideshow": {
     "slide_type": "subslide"
    }
   },
   "source": [
    "### Course goals\n",
    "\n",
    "- Understand the fundamental physical equations solved in numerical geodynamic models, how they work, and how they affect numerical experiments\n",
    "- Learn how to convert the main equations used to model lithospheric deformation into simple programs\n",
    "- Develop a background understanding of geodynamics that allows you to properly understand the behavior of geodynamic numerical models"
   ]
  },
  {
   "cell_type": "markdown",
   "metadata": {
    "slideshow": {
     "slide_type": "subslide"
    }
   },
   "source": [
    "### Learning objectives\n",
    "\n",
    "At the end of this course, students should be able to:\n",
    "\n",
    "- Solve partial differential equations using the finite-difference method\n",
    "- Differentiate between and implement various boundary and initial conditions in numerical models\n",
    "- Create their own 1D geodynamic models and know how to use modern 3D numerical geodynamic modelling software to simulate common physical processes in the Earth (heat transfer, rock deformation, etc.)"
   ]
  },
  {
   "cell_type": "markdown",
   "metadata": {
    "slideshow": {
     "slide_type": "subslide"
    }
   },
   "source": [
    "### Working methods\n",
    "\n",
    "<p align=\"left\">The course involves a combination of lectures and computer-based exercises</p>\n",
    "\n",
    "- I will try to keep lectures to a minimum, but we do need to present some material you will need to complete the computer exercises\n",
    "- For the computer exercises, you should work together your partner in the course and we will discuss your solutions after you have completed the daily exercises"
   ]
  },
  {
   "cell_type": "markdown",
   "metadata": {
    "slideshow": {
     "slide_type": "slide"
    }
   },
   "source": [
    "## Schedule\n",
    "\n",
    "***Subject to change - Last updated 22.5.2020***\n",
    "\n",
    "***Press space to view each day***"
   ]
  },
  {
   "cell_type": "markdown",
   "metadata": {
    "slideshow": {
     "slide_type": "subslide"
    }
   },
   "source": [
    "### Day 1\n",
    "\n",
    "#### Morning\n",
    "\n",
    "- 09:00-09:30 - Course overview and introductions\n",
    "- 09:30-11:15 - Key physical processes/concepts\n",
    "- 11:15-11:45 - Solving equations\n",
    "- 11:45-12:00 - *Computer setup/introduction* (optional)\n",
    "\n",
    "#### Afternoon\n",
    "\n",
    "- 12:00-15:00 - Python/computing essentials (self study, exercises)\n",
    "- 15:00-16:00 - Python/computing essentials (review, Q&A)"
   ]
  },
  {
   "cell_type": "markdown",
   "metadata": {
    "slideshow": {
     "slide_type": "subslide"
    }
   },
   "source": [
    "### Day 2\n",
    "\n",
    "#### Morning\n",
    "\n",
    "- 09:00-10:30 - The finite-difference method, part I\n",
    "- 10:30-12:00 - Heat conduction and advection in 1D\n",
    "\n",
    "#### Afternoon\n",
    "\n",
    "- 12:00-15:00 - Finite-difference method exercises\n",
    "- 15:00-16:00 - Exercise review and Q&A"
   ]
  },
  {
   "cell_type": "markdown",
   "metadata": {
    "slideshow": {
     "slide_type": "subslide"
    }
   },
   "source": [
    "### Day 3\n",
    "\n",
    "#### Morning\n",
    "\n",
    "- 09:00-10:30 - Testing your code and benchmarking\n",
    "- 10:30-12:00 - Solving the momentum and continuity equations\n",
    "\n",
    "#### Afternoon\n",
    "\n",
    "- 12:00-15:00 - Momentum and continuity equations exercises\n",
    "- 15:00-16:00 - Exercise review and Q&A"
   ]
  },
  {
   "cell_type": "markdown",
   "metadata": {
    "slideshow": {
     "slide_type": "subslide"
    }
   },
   "source": [
    "### Day 4\n",
    "\n",
    "#### Morning\n",
    "\n",
    "- 09:00-10:30 - Cluster computing\n",
    "- 10:30-11:30 - Introduction to DOUAR\n",
    "- 11:30-12:00 - Running a DOUAR model\n",
    "\n",
    "#### Afternoon\n",
    "\n",
    "- 12:00-15:00 - DOUAR exercise, putting it all together (self study)\n",
    "- 14:30-16:00 - Exercise review, Q&A, 3D visualization with ParaView"
   ]
  },
  {
   "cell_type": "markdown",
   "metadata": {
    "slideshow": {
     "slide_type": "subslide"
    }
   },
   "source": [
    "### Day 5\n",
    "\n",
    "#### Morning\n",
    "\n",
    "- 09:00-11:30 - Modifying / re-running DOUAR experiments\n",
    "- 11:30-12:00 - Course project description, DOUAR Q&A\n",
    "\n",
    "#### Afternoon\n",
    "\n",
    "- 12:00-16:00 - Free time for experimentation with DOUAR\n",
    "    - Dave available online from 12:00-14:00"
   ]
  },
  {
   "cell_type": "markdown",
   "metadata": {
    "slideshow": {
     "slide_type": "slide"
    }
   },
   "source": [
    "## Any questions?"
   ]
  }
 ],
 "metadata": {
  "celltoolbar": "Slideshow",
  "kernelspec": {
   "display_name": "Python 3",
   "language": "python",
   "name": "python3"
  },
  "language_info": {
   "codemirror_mode": {
    "name": "ipython",
    "version": 3
   },
   "file_extension": ".py",
   "mimetype": "text/x-python",
   "name": "python",
   "nbconvert_exporter": "python",
   "pygments_lexer": "ipython3",
   "version": "3.8.2"
  },
  "livereveal": {
   "autolaunch": true,
   "theme": "serif"
  }
 },
 "nbformat": 4,
 "nbformat_minor": 2
}
